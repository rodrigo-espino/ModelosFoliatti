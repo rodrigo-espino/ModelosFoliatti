{
 "cells": [
  {
   "cell_type": "code",
   "execution_count": 1,
   "id": "71214034",
   "metadata": {},
   "outputs": [],
   "source": [
    "import pandas as pd\n",
    "from scipy.stats import f_oneway\n"
   ]
  },
  {
   "cell_type": "code",
   "execution_count": 2,
   "id": "5bedc314",
   "metadata": {},
   "outputs": [],
   "source": [
    "df_general = pd.read_csv('../data/data_general.csv')\n",
    "df_ajijic = pd.read_csv('../data/data-ajijic.csv')\n",
    "df_allende = pd.read_csv('../data/data-allende.csv')\n",
    "df_esmeralda = pd.read_csv('../data/data-esmeralda.csv')\n",
    "df_guadalupe = pd.read_csv('../data/data-guadalupe.csv')\n",
    "df_irapuato = pd.read_csv('../data/data-irapuato.csv')\n",
    "df_mitras = pd.read_csv('../data/data-mitras.csv')\n",
    "df_neza = pd.read_csv('../data/data-neza.csv')\n",
    "df_satelite = pd.read_csv('../data/data-satelite.csv')\n",
    "df_sendero = pd.read_csv('../data/data-sendero.csv')"
   ]
  },
  {
   "cell_type": "code",
   "execution_count": 3,
   "id": "a59c9260",
   "metadata": {},
   "outputs": [],
   "source": [
    "columns_selected = ['AVG_BET',\n",
    "        'INITIAL_AMOUNT', 'GAMES_PLAYED_TOTAL',\n",
    "        'GAMES_WON_TOTAL', 'Rango_Edad_le']"
   ]
  },
  {
   "cell_type": "markdown",
   "id": "f0e7dda9",
   "metadata": {},
   "source": [
    "# Ajijic"
   ]
  },
  {
   "cell_type": "code",
   "execution_count": 4,
   "id": "fa50fcb5",
   "metadata": {},
   "outputs": [],
   "source": [
    "num_clusters = len(df_general['Cluster'].unique())\n",
    "\n",
    "# Resultados\n",
    "anova_results = []\n",
    "\n",
    "for col in columns_selected:\n",
    "    for c1 in range(num_clusters):\n",
    "        for c2 in range(num_clusters):\n",
    "            # Extraer los datos por cluster y columna\n",
    "            group1 = df_general[df_general['Cluster'] == c1][col].dropna()\n",
    "            group2 = df_ajijic[df_ajijic['Cluster'] == c2][col].dropna()\n",
    "            \n",
    "            # Asegúrate de que ambos grupos tengan más de 1 dato\n",
    "            if len(group1) > 1 and len(group2) > 1:\n",
    "                # ANOVA entre cluster c1 del df1 y cluster c2 del df2\n",
    "                stat, p = f_oneway(group1, group2)\n",
    "                \n",
    "                anova_results.append({\n",
    "                    'variable': col,\n",
    "                    'cluster_df1': c1,\n",
    "                    'cluster_df2': c2,\n",
    "                    'F_statistic': stat,\n",
    "                    'p_value': p\n",
    "                })\n",
    "anova_df_ajijic = pd.DataFrame(anova_results)\n"
   ]
  },
  {
   "cell_type": "code",
   "execution_count": 5,
   "id": "a60761d8",
   "metadata": {},
   "outputs": [
    {
     "data": {
      "text/plain": [
       "variable\n",
       "AVG_BET               16\n",
       "GAMES_PLAYED_TOTAL    16\n",
       "GAMES_WON_TOTAL       16\n",
       "INITIAL_AMOUNT        16\n",
       "Rango_Edad_le         16\n",
       "dtype: int64"
      ]
     },
     "execution_count": 5,
     "metadata": {},
     "output_type": "execute_result"
    }
   ],
   "source": [
    "anova_df_ajijic.groupby('variable').size()"
   ]
  },
  {
   "cell_type": "code",
   "execution_count": 6,
   "id": "f808b95b",
   "metadata": {},
   "outputs": [
    {
     "data": {
      "text/html": [
       "<div>\n",
       "<style scoped>\n",
       "    .dataframe tbody tr th:only-of-type {\n",
       "        vertical-align: middle;\n",
       "    }\n",
       "\n",
       "    .dataframe tbody tr th {\n",
       "        vertical-align: top;\n",
       "    }\n",
       "\n",
       "    .dataframe thead th {\n",
       "        text-align: right;\n",
       "    }\n",
       "</style>\n",
       "<table border=\"1\" class=\"dataframe\">\n",
       "  <thead>\n",
       "    <tr style=\"text-align: right;\">\n",
       "      <th></th>\n",
       "      <th>variable</th>\n",
       "      <th>cluster_df1</th>\n",
       "      <th>cluster_df2</th>\n",
       "      <th>F_statistic</th>\n",
       "      <th>p_value</th>\n",
       "    </tr>\n",
       "  </thead>\n",
       "  <tbody>\n",
       "    <tr>\n",
       "      <th>1</th>\n",
       "      <td>AVG_BET</td>\n",
       "      <td>0</td>\n",
       "      <td>1</td>\n",
       "      <td>88.896618</td>\n",
       "      <td>4.234526e-21</td>\n",
       "    </tr>\n",
       "    <tr>\n",
       "      <th>2</th>\n",
       "      <td>AVG_BET</td>\n",
       "      <td>0</td>\n",
       "      <td>2</td>\n",
       "      <td>19.808942</td>\n",
       "      <td>8.566330e-06</td>\n",
       "    </tr>\n",
       "    <tr>\n",
       "      <th>3</th>\n",
       "      <td>AVG_BET</td>\n",
       "      <td>0</td>\n",
       "      <td>3</td>\n",
       "      <td>4316.131755</td>\n",
       "      <td>0.000000e+00</td>\n",
       "    </tr>\n",
       "    <tr>\n",
       "      <th>5</th>\n",
       "      <td>AVG_BET</td>\n",
       "      <td>1</td>\n",
       "      <td>1</td>\n",
       "      <td>73.476525</td>\n",
       "      <td>1.092478e-17</td>\n",
       "    </tr>\n",
       "    <tr>\n",
       "      <th>6</th>\n",
       "      <td>AVG_BET</td>\n",
       "      <td>1</td>\n",
       "      <td>2</td>\n",
       "      <td>17.255340</td>\n",
       "      <td>3.282257e-05</td>\n",
       "    </tr>\n",
       "    <tr>\n",
       "      <th>...</th>\n",
       "      <td>...</td>\n",
       "      <td>...</td>\n",
       "      <td>...</td>\n",
       "      <td>...</td>\n",
       "      <td>...</td>\n",
       "    </tr>\n",
       "    <tr>\n",
       "      <th>75</th>\n",
       "      <td>Rango_Edad_le</td>\n",
       "      <td>2</td>\n",
       "      <td>3</td>\n",
       "      <td>3302.500188</td>\n",
       "      <td>0.000000e+00</td>\n",
       "    </tr>\n",
       "    <tr>\n",
       "      <th>76</th>\n",
       "      <td>Rango_Edad_le</td>\n",
       "      <td>3</td>\n",
       "      <td>0</td>\n",
       "      <td>900.008556</td>\n",
       "      <td>1.114370e-181</td>\n",
       "    </tr>\n",
       "    <tr>\n",
       "      <th>77</th>\n",
       "      <td>Rango_Edad_le</td>\n",
       "      <td>3</td>\n",
       "      <td>1</td>\n",
       "      <td>2330.177981</td>\n",
       "      <td>0.000000e+00</td>\n",
       "    </tr>\n",
       "    <tr>\n",
       "      <th>78</th>\n",
       "      <td>Rango_Edad_le</td>\n",
       "      <td>3</td>\n",
       "      <td>2</td>\n",
       "      <td>10.580392</td>\n",
       "      <td>1.157647e-03</td>\n",
       "    </tr>\n",
       "    <tr>\n",
       "      <th>79</th>\n",
       "      <td>Rango_Edad_le</td>\n",
       "      <td>3</td>\n",
       "      <td>3</td>\n",
       "      <td>36.894320</td>\n",
       "      <td>1.401244e-09</td>\n",
       "    </tr>\n",
       "  </tbody>\n",
       "</table>\n",
       "<p>66 rows × 5 columns</p>\n",
       "</div>"
      ],
      "text/plain": [
       "         variable  cluster_df1  cluster_df2  F_statistic        p_value\n",
       "1         AVG_BET            0            1    88.896618   4.234526e-21\n",
       "2         AVG_BET            0            2    19.808942   8.566330e-06\n",
       "3         AVG_BET            0            3  4316.131755   0.000000e+00\n",
       "5         AVG_BET            1            1    73.476525   1.092478e-17\n",
       "6         AVG_BET            1            2    17.255340   3.282257e-05\n",
       "..            ...          ...          ...          ...            ...\n",
       "75  Rango_Edad_le            2            3  3302.500188   0.000000e+00\n",
       "76  Rango_Edad_le            3            0   900.008556  1.114370e-181\n",
       "77  Rango_Edad_le            3            1  2330.177981   0.000000e+00\n",
       "78  Rango_Edad_le            3            2    10.580392   1.157647e-03\n",
       "79  Rango_Edad_le            3            3    36.894320   1.401244e-09\n",
       "\n",
       "[66 rows x 5 columns]"
      ]
     },
     "execution_count": 6,
     "metadata": {},
     "output_type": "execute_result"
    }
   ],
   "source": [
    "anova_df_ajijic\n",
    "anova_df_ajijic[anova_df_ajijic['p_value'] < 0.05]"
   ]
  },
  {
   "cell_type": "markdown",
   "id": "c03d0ada",
   "metadata": {},
   "source": [
    "# Allende"
   ]
  },
  {
   "cell_type": "code",
   "execution_count": 7,
   "id": "045b35be",
   "metadata": {},
   "outputs": [],
   "source": [
    "num_clusters = len(df_general['Cluster'].unique())\n",
    "\n",
    "# Resultados\n",
    "anova_results = []\n",
    "\n",
    "for col in columns_selected:\n",
    "    for c1 in range(num_clusters):\n",
    "        for c2 in range(num_clusters):\n",
    "            # Extraer los datos por cluster y columna\n",
    "            group1 = df_general[df_general['Cluster'] == c1][col].dropna()\n",
    "            group2 = df_allende[df_allende['Cluster'] == c2][col].dropna()\n",
    "            \n",
    "            # Asegúrate de que ambos grupos tengan más de 1 dato\n",
    "            if len(group1) > 1 and len(group2) > 1:\n",
    "                # ANOVA entre cluster c1 del df1 y cluster c2 del df2\n",
    "                stat, p = f_oneway(group1, group2)\n",
    "                \n",
    "                anova_results.append({\n",
    "                    'variable': col,\n",
    "                    'cluster_df1': c1,\n",
    "                    'cluster_df2': c2,\n",
    "                    'F_statistic': stat,\n",
    "                    'p_value': p\n",
    "                })\n",
    "anova_df_allende = pd.DataFrame(anova_results)\n"
   ]
  },
  {
   "cell_type": "code",
   "execution_count": 8,
   "id": "b3cebc2e",
   "metadata": {},
   "outputs": [
    {
     "data": {
      "text/plain": [
       "variable\n",
       "AVG_BET               16\n",
       "GAMES_PLAYED_TOTAL    16\n",
       "GAMES_WON_TOTAL       16\n",
       "INITIAL_AMOUNT        16\n",
       "Rango_Edad_le         14\n",
       "dtype: int64"
      ]
     },
     "execution_count": 8,
     "metadata": {},
     "output_type": "execute_result"
    }
   ],
   "source": [
    "anova_df_allende\n",
    "anova_df_allende[anova_df_allende['p_value'] < 0.05].groupby('variable').size()"
   ]
  },
  {
   "cell_type": "markdown",
   "id": "dd83d94d",
   "metadata": {},
   "source": [
    "# Esmeralda"
   ]
  },
  {
   "cell_type": "code",
   "execution_count": 9,
   "id": "fa8d772e",
   "metadata": {},
   "outputs": [],
   "source": [
    "num_clusters = len(df_general['Cluster'].unique())\n",
    "\n",
    "# Resultados\n",
    "anova_results = []\n",
    "\n",
    "for col in columns_selected:\n",
    "    for c1 in range(num_clusters):\n",
    "        for c2 in range(num_clusters):\n",
    "            # Extraer los datos por cluster y columna\n",
    "            group1 = df_general[df_general['Cluster'] == c1][col].dropna()\n",
    "            group2 = df_esmeralda[df_esmeralda['Cluster'] == c2][col].dropna()\n",
    "            \n",
    "            # Asegúrate de que ambos grupos tengan más de 1 dato\n",
    "            if len(group1) > 1 and len(group2) > 1:\n",
    "                # ANOVA entre cluster c1 del df1 y cluster c2 del df2\n",
    "                stat, p = f_oneway(group1, group2)\n",
    "                \n",
    "                anova_results.append({\n",
    "                    'variable': col,\n",
    "                    'cluster_df1': c1,\n",
    "                    'cluster_df2': c2,\n",
    "                    'F_statistic': stat,\n",
    "                    'p_value': p\n",
    "                })\n",
    "anova_df_esmeralda = pd.DataFrame(anova_results)\n"
   ]
  },
  {
   "cell_type": "code",
   "execution_count": 10,
   "id": "cca43128",
   "metadata": {},
   "outputs": [
    {
     "data": {
      "text/plain": [
       "variable\n",
       "AVG_BET               15\n",
       "GAMES_PLAYED_TOTAL    16\n",
       "GAMES_WON_TOTAL       16\n",
       "INITIAL_AMOUNT        14\n",
       "Rango_Edad_le         13\n",
       "dtype: int64"
      ]
     },
     "execution_count": 10,
     "metadata": {},
     "output_type": "execute_result"
    }
   ],
   "source": [
    "anova_df_esmeralda[anova_df_esmeralda['p_value'] < 0.05].groupby('variable').size()"
   ]
  },
  {
   "cell_type": "markdown",
   "id": "b34c5dcd",
   "metadata": {},
   "source": [
    "# Guadalupe"
   ]
  },
  {
   "cell_type": "code",
   "execution_count": 11,
   "id": "0ba53f2b",
   "metadata": {},
   "outputs": [],
   "source": [
    "num_clusters = len(df_general['Cluster'].unique())\n",
    "\n",
    "# Resultados\n",
    "anova_results = []\n",
    "\n",
    "for col in columns_selected:\n",
    "    for c1 in range(num_clusters):\n",
    "        for c2 in range(num_clusters):\n",
    "            # Extraer los datos por cluster y columna\n",
    "            group1 = df_general[df_general['Cluster'] == c1][col].dropna()\n",
    "            group2 = df_guadalupe[df_guadalupe['Cluster'] == c2][col].dropna()\n",
    "            \n",
    "            # Asegúrate de que ambos grupos tengan más de 1 dato\n",
    "            if len(group1) > 1 and len(group2) > 1:\n",
    "                # ANOVA entre cluster c1 del df1 y cluster c2 del df2\n",
    "                stat, p = f_oneway(group1, group2)\n",
    "                \n",
    "                anova_results.append({\n",
    "                    'variable': col,\n",
    "                    'cluster_df1': c1,\n",
    "                    'cluster_df2': c2,\n",
    "                    'F_statistic': stat,\n",
    "                    'p_value': p\n",
    "                })\n",
    "anova_df_guadalupe = pd.DataFrame(anova_results)\n"
   ]
  },
  {
   "cell_type": "code",
   "execution_count": 12,
   "id": "2d13060d",
   "metadata": {},
   "outputs": [
    {
     "data": {
      "text/plain": [
       "variable\n",
       "AVG_BET               10\n",
       "GAMES_PLAYED_TOTAL    16\n",
       "GAMES_WON_TOTAL       14\n",
       "INITIAL_AMOUNT        13\n",
       "Rango_Edad_le         11\n",
       "dtype: int64"
      ]
     },
     "execution_count": 12,
     "metadata": {},
     "output_type": "execute_result"
    }
   ],
   "source": [
    "anova_df_guadalupe[anova_df_guadalupe['p_value'] < 0.05].groupby('variable').size()\n"
   ]
  },
  {
   "cell_type": "markdown",
   "id": "daee2609",
   "metadata": {},
   "source": [
    "# Irapuato"
   ]
  },
  {
   "cell_type": "code",
   "execution_count": 13,
   "id": "3cbe173c",
   "metadata": {},
   "outputs": [],
   "source": [
    "num_clusters = len(df_general['Cluster'].unique())\n",
    "\n",
    "# Resultados\n",
    "anova_results = []\n",
    "\n",
    "for col in columns_selected:\n",
    "    for c1 in range(num_clusters):\n",
    "        for c2 in range(num_clusters):\n",
    "            # Extraer los datos por cluster y columna\n",
    "            group1 = df_general[df_general['Cluster'] == c1][col].dropna()\n",
    "            group2 = df_irapuato[df_irapuato['Cluster'] == c2][col].dropna()\n",
    "            \n",
    "            # Asegúrate de que ambos grupos tengan más de 1 dato\n",
    "            if len(group1) > 1 and len(group2) > 1:\n",
    "                # ANOVA entre cluster c1 del df1 y cluster c2 del df2\n",
    "                stat, p = f_oneway(group1, group2)\n",
    "                \n",
    "                anova_results.append({\n",
    "                    'variable': col,\n",
    "                    'cluster_df1': c1,\n",
    "                    'cluster_df2': c2,\n",
    "                    'F_statistic': stat,\n",
    "                    'p_value': p\n",
    "                })\n",
    "anova_df_irapuato = pd.DataFrame(anova_results)\n"
   ]
  },
  {
   "cell_type": "code",
   "execution_count": 14,
   "id": "7e5649d0",
   "metadata": {},
   "outputs": [
    {
     "data": {
      "text/plain": [
       "variable\n",
       "AVG_BET               14\n",
       "GAMES_PLAYED_TOTAL    16\n",
       "GAMES_WON_TOTAL       14\n",
       "INITIAL_AMOUNT        11\n",
       "Rango_Edad_le         16\n",
       "dtype: int64"
      ]
     },
     "execution_count": 14,
     "metadata": {},
     "output_type": "execute_result"
    }
   ],
   "source": [
    "anova_df_irapuato[anova_df_irapuato['p_value'] < 0.05].groupby('variable').size()"
   ]
  },
  {
   "cell_type": "markdown",
   "id": "6d41f7cb",
   "metadata": {},
   "source": [
    "# Mitras"
   ]
  },
  {
   "cell_type": "code",
   "execution_count": 15,
   "id": "3a87bd6a",
   "metadata": {},
   "outputs": [],
   "source": [
    "num_clusters = len(df_general['Cluster'].unique())\n",
    "\n",
    "# Resultados\n",
    "anova_results = []\n",
    "\n",
    "for col in columns_selected:\n",
    "    for c1 in range(num_clusters):\n",
    "        for c2 in range(num_clusters):\n",
    "            # Extraer los datos por cluster y columna\n",
    "            group1 = df_general[df_general['Cluster'] == c1][col].dropna()\n",
    "            group2 = df_mitras[df_mitras['Cluster'] == c2][col].dropna()\n",
    "            \n",
    "            # Asegúrate de que ambos grupos tengan más de 1 dato\n",
    "            if len(group1) > 1 and len(group2) > 1:\n",
    "                # ANOVA entre cluster c1 del df1 y cluster c2 del df2\n",
    "                stat, p = f_oneway(group1, group2)\n",
    "                \n",
    "                anova_results.append({\n",
    "                    'variable': col,\n",
    "                    'cluster_df1': c1,\n",
    "                    'cluster_df2': c2,\n",
    "                    'F_statistic': stat,\n",
    "                    'p_value': p\n",
    "                })\n",
    "anova_df_mitras = pd.DataFrame(anova_results)\n"
   ]
  },
  {
   "cell_type": "code",
   "execution_count": 16,
   "id": "634dc06b",
   "metadata": {},
   "outputs": [
    {
     "data": {
      "text/plain": [
       "variable\n",
       "AVG_BET               14\n",
       "GAMES_PLAYED_TOTAL    16\n",
       "GAMES_WON_TOTAL       16\n",
       "INITIAL_AMOUNT        15\n",
       "Rango_Edad_le         14\n",
       "dtype: int64"
      ]
     },
     "execution_count": 16,
     "metadata": {},
     "output_type": "execute_result"
    }
   ],
   "source": [
    "anova_df_mitras[anova_df_mitras['p_value'] < 0.05].groupby('variable').size()"
   ]
  },
  {
   "cell_type": "markdown",
   "id": "7d5c6293",
   "metadata": {},
   "source": [
    "# Neza"
   ]
  },
  {
   "cell_type": "code",
   "execution_count": 17,
   "id": "0e885e59",
   "metadata": {},
   "outputs": [],
   "source": [
    "num_clusters = len(df_general['Cluster'].unique())\n",
    "\n",
    "# Resultados\n",
    "anova_results = []\n",
    "\n",
    "for col in columns_selected:\n",
    "    for c1 in range(num_clusters):\n",
    "        for c2 in range(num_clusters):\n",
    "            # Extraer los datos por cluster y columna\n",
    "            group1 = df_general[df_general['Cluster'] == c1][col].dropna()\n",
    "            group2 = df_neza[df_neza['Cluster'] == c2][col].dropna()\n",
    "            \n",
    "            # Asegúrate de que ambos grupos tengan más de 1 dato\n",
    "            if len(group1) > 1 and len(group2) > 1:\n",
    "                # ANOVA entre cluster c1 del df1 y cluster c2 del df2\n",
    "                stat, p = f_oneway(group1, group2)\n",
    "                \n",
    "                anova_results.append({\n",
    "                    'variable': col,\n",
    "                    'cluster_df1': c1,\n",
    "                    'cluster_df2': c2,\n",
    "                    'F_statistic': stat,\n",
    "                    'p_value': p\n",
    "                })\n",
    "anova_df_neza = pd.DataFrame(anova_results)\n"
   ]
  },
  {
   "cell_type": "code",
   "execution_count": 18,
   "id": "56e4b521",
   "metadata": {},
   "outputs": [
    {
     "data": {
      "text/plain": [
       "variable\n",
       "AVG_BET               16\n",
       "GAMES_PLAYED_TOTAL    14\n",
       "GAMES_WON_TOTAL       16\n",
       "INITIAL_AMOUNT        14\n",
       "Rango_Edad_le         16\n",
       "dtype: int64"
      ]
     },
     "execution_count": 18,
     "metadata": {},
     "output_type": "execute_result"
    }
   ],
   "source": [
    "anova_df_neza[anova_df_neza['p_value'] < 0.05].groupby('variable').size()"
   ]
  },
  {
   "cell_type": "markdown",
   "id": "6a5cf02a",
   "metadata": {},
   "source": [
    "# Satelite"
   ]
  },
  {
   "cell_type": "code",
   "execution_count": 19,
   "id": "3c6f0f3d",
   "metadata": {},
   "outputs": [],
   "source": [
    "num_clusters = len(df_general['Cluster'].unique())\n",
    "\n",
    "# Resultados\n",
    "anova_results = []\n",
    "\n",
    "for col in columns_selected:\n",
    "    for c1 in range(num_clusters):\n",
    "        for c2 in range(num_clusters):\n",
    "            # Extraer los datos por cluster y columna\n",
    "            group1 = df_general[df_general['Cluster'] == c1][col].dropna()\n",
    "            group2 = df_satelite[df_satelite['Cluster'] == c2][col].dropna()\n",
    "            \n",
    "            # Asegúrate de que ambos grupos tengan más de 1 dato\n",
    "            if len(group1) > 1 and len(group2) > 1:\n",
    "                # ANOVA entre cluster c1 del df1 y cluster c2 del df2\n",
    "                stat, p = f_oneway(group1, group2)\n",
    "                \n",
    "                anova_results.append({\n",
    "                    'variable': col,\n",
    "                    'cluster_df1': c1,\n",
    "                    'cluster_df2': c2,\n",
    "                    'F_statistic': stat,\n",
    "                    'p_value': p\n",
    "                })\n",
    "anova_df_satelite = pd.DataFrame(anova_results)\n"
   ]
  },
  {
   "cell_type": "code",
   "execution_count": 20,
   "id": "da94449b",
   "metadata": {},
   "outputs": [
    {
     "data": {
      "text/plain": [
       "variable\n",
       "AVG_BET               12\n",
       "GAMES_PLAYED_TOTAL    16\n",
       "GAMES_WON_TOTAL       16\n",
       "INITIAL_AMOUNT        16\n",
       "Rango_Edad_le         15\n",
       "dtype: int64"
      ]
     },
     "execution_count": 20,
     "metadata": {},
     "output_type": "execute_result"
    }
   ],
   "source": [
    "anova_df_satelite[anova_df_satelite['p_value'] < 0.05].groupby('variable').size()"
   ]
  },
  {
   "cell_type": "markdown",
   "id": "b0948b44",
   "metadata": {},
   "source": [
    "# Sendero"
   ]
  },
  {
   "cell_type": "code",
   "execution_count": 21,
   "id": "b78b0ca0",
   "metadata": {},
   "outputs": [],
   "source": [
    "num_clusters = len(df_general['Cluster'].unique())\n",
    "\n",
    "# Resultados\n",
    "anova_results = []\n",
    "\n",
    "for col in columns_selected:\n",
    "    for c1 in range(num_clusters):\n",
    "        for c2 in range(num_clusters):\n",
    "            # Extraer los datos por cluster y columna\n",
    "            group1 = df_general[df_general['Cluster'] == c1][col].dropna()\n",
    "            group2 = df_sendero[df_sendero['Cluster'] == c2][col].dropna()\n",
    "            \n",
    "            # Asegúrate de que ambos grupos tengan más de 1 dato\n",
    "            if len(group1) > 1 and len(group2) > 1:\n",
    "                # ANOVA entre cluster c1 del df1 y cluster c2 del df2\n",
    "                stat, p = f_oneway(group1, group2)\n",
    "                \n",
    "                anova_results.append({\n",
    "                    'variable': col,\n",
    "                    'cluster_df1': c1,\n",
    "                    'cluster_df2': c2,\n",
    "                    'F_statistic': stat,\n",
    "                    'p_value': p\n",
    "                })\n",
    "anova_df_sendero = pd.DataFrame(anova_results)\n"
   ]
  },
  {
   "cell_type": "code",
   "execution_count": 22,
   "id": "802d0d7c",
   "metadata": {},
   "outputs": [
    {
     "data": {
      "text/plain": [
       "variable\n",
       "AVG_BET                7\n",
       "GAMES_PLAYED_TOTAL    16\n",
       "GAMES_WON_TOTAL       16\n",
       "INITIAL_AMOUNT        10\n",
       "Rango_Edad_le         12\n",
       "dtype: int64"
      ]
     },
     "execution_count": 22,
     "metadata": {},
     "output_type": "execute_result"
    }
   ],
   "source": [
    "anova_df_sendero[anova_df_sendero['p_value'] < 0.05].groupby('variable').size()"
   ]
  }
 ],
 "metadata": {
  "kernelspec": {
   "display_name": "Foliatti",
   "language": "python",
   "name": "python3"
  },
  "language_info": {
   "codemirror_mode": {
    "name": "ipython",
    "version": 3
   },
   "file_extension": ".py",
   "mimetype": "text/x-python",
   "name": "python",
   "nbconvert_exporter": "python",
   "pygments_lexer": "ipython3",
   "version": "3.11.11"
  }
 },
 "nbformat": 4,
 "nbformat_minor": 5
}
