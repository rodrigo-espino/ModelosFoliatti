{
 "cells": [
  {
   "cell_type": "code",
   "execution_count": 1,
   "id": "7eaaefef",
   "metadata": {},
   "outputs": [],
   "source": [
    "import sys\n",
    "import os\n",
    "\n",
    "# Ruta al proyecto raíz donde está la carpeta 'scripts'\n",
    "project_root = os.path.abspath('../../')  # o usa la ruta absoluta si prefieres\n",
    "sys.path.append(project_root)"
   ]
  },
  {
   "cell_type": "code",
   "execution_count": 2,
   "id": "3ab66a5e",
   "metadata": {},
   "outputs": [],
   "source": [
    "import pandas as pd\n",
    "import numpy as np\n",
    "import os\n",
    "import matplotlib.pyplot as plt\n",
    "import seaborn as sns\n",
    "from datetime import datetime\n",
    "from dotenv import load_dotenv\n",
    "from sqlalchemy import create_engine\n",
    "from scripts.remove_outliers import remove_outliers\n",
    "\n",
    "from sqlalchemy.orm import sessionmaker\n",
    "pd.set_option('display.float_format', '{:.2f}'.format)"
   ]
  },
  {
   "cell_type": "code",
   "execution_count": 3,
   "id": "9fe273b0",
   "metadata": {},
   "outputs": [],
   "source": [
    "query = \"\"\" \n",
    "BEGIN\n",
    "    DECLARE @TotalRows INT;\n",
    "    DECLARE @SampleSize INT;\n",
    "    DECLARE @Q1 FLOAT, @Q3 FLOAT, @IQR FLOAT;\n",
    "    DECLARE @LowerBound FLOAT, @UpperBound FLOAT;\n",
    "\n",
    "    -- Contar el total de filas\n",
    "    SELECT @TotalRows = COUNT(*)\n",
    "    FROM dbo.BI_GAME_SESSIONS gs\n",
    "    INNER JOIN dbo.BI_CARDS crd ON crd.CARD_ID = gs.CARD_ID\n",
    "    INNER JOIN dbo.BI_PLAYERS pl ON pl.PLAYER_ID = crd.PLAYER_ID\n",
    "    INNER JOIN dbo.BI_PLAYERS_LEVEL_ASSIGNED pll ON pll.PLAYER_ID = pl.PLAYER_ID\n",
    "    WHERE gs.INITIAL_TIME >= '2024-01-01';\n",
    "\n",
    "    -- Calcular tamaño de muestra\n",
    "    SET @SampleSize = CEILING(@TotalRows * 0.01);\n",
    "\n",
    "    -- Calcular Q1 y Q3 usando PERCENTILE_CONT\n",
    "    WITH OrderedValues AS (\n",
    "        SELECT CAST(gs.INITIAL_AMOUNT AS FLOAT) AS INITIAL_AMOUNT\n",
    "        FROM dbo.BI_GAME_SESSIONS gs\n",
    "        INNER JOIN dbo.BI_CARDS crd ON crd.CARD_ID = gs.CARD_ID\n",
    "        INNER JOIN dbo.BI_PLAYERS pl ON pl.PLAYER_ID = crd.PLAYER_ID\n",
    "        INNER JOIN dbo.BI_PLAYERS_LEVEL_ASSIGNED pll ON pll.PLAYER_ID = pl.PLAYER_ID\n",
    "        WHERE gs.INITIAL_TIME >= '2024-01-01'\n",
    "    )\n",
    "    SELECT \n",
    "        @Q1 = PERCENTILE_CONT(0.25) WITHIN GROUP (ORDER BY INITIAL_AMOUNT) OVER(),\n",
    "        @Q3 = PERCENTILE_CONT(0.75) WITHIN GROUP (ORDER BY INITIAL_AMOUNT) OVER()\n",
    "    FROM OrderedValues;\n",
    "\n",
    "    -- Calcular límites de outliers\n",
    "    SET @IQR = @Q3 - @Q1;\n",
    "    SET @LowerBound = @Q1 - 1.5 * @IQR;\n",
    "    SET @UpperBound = @Q3 + 1.5 * @IQR;\n",
    "\n",
    "    -- Seleccionar muestra filtrando outliers\n",
    "    SELECT TOP (@SampleSize)\n",
    "           pl.PLAYER_ID,\n",
    "           pl.DOB,\n",
    "           pl.GENDER,\n",
    "           gs.AVG_BET,\n",
    "           gs.BET_TOTAL,\n",
    "           gs.INITIAL_AMOUNT,\n",
    "           gs.INITIAL_PROMO_AMOUNT,\n",
    "           gs.FINAL_AMOUNT,\n",
    "           gs.FINAL_PROMO_AMOUNT,\n",
    "           gs.MACHINE_ID,\n",
    "           gs.WIN_TOTAL,\n",
    "           gs.GAMES_PLAYED_TOTAL,\n",
    "           gs.GAMES_WON_TOTAL,\n",
    "           gs.TIME_ON_DEVICE_SEC,\n",
    "           pll.PLAYER_LEVEL_ID\n",
    "    FROM dbo.BI_GAME_SESSIONS gs\n",
    "    INNER JOIN dbo.BI_CARDS crd ON crd.CARD_ID = gs.CARD_ID\n",
    "    INNER JOIN dbo.BI_PLAYERS pl ON pl.PLAYER_ID = crd.PLAYER_ID\n",
    "    INNER JOIN dbo.BI_PLAYERS_LEVEL_ASSIGNED pll ON pll.PLAYER_ID = pl.PLAYER_ID\n",
    "    WHERE gs.INITIAL_TIME >= '2024-01-01'\n",
    "      AND gs.INITIAL_AMOUNT BETWEEN @LowerBound AND @UpperBound\n",
    "    ORDER BY CHECKSUM(NEWID());\n",
    "END\n",
    "\n",
    "\"\"\""
   ]
  },
  {
   "cell_type": "code",
   "execution_count": 4,
   "id": "9745f883",
   "metadata": {},
   "outputs": [],
   "source": [
    "load_dotenv()\n",
    "\n",
    "\n",
    "server = os.getenv('SERVER')\n",
    "username = os.getenv('SQL_USERNAME')\n",
    "password = os.getenv('SQL_PASSWORD')\n",
    "\n",
    "## Neza ##\n",
    "database = 'ewise_BI_Nez'\n",
    "connection_string = f'mssql+pyodbc://{username}:{password}@{server}/{database}?driver=ODBC+Driver+17+for+SQL+Server'\n",
    "engine = create_engine(connection_string)\n",
    "Session = sessionmaker(bind=engine)\n",
    "session = Session()\n",
    "df = pd.read_sql_query(query, engine)"
   ]
  },
  {
   "cell_type": "code",
   "execution_count": 5,
   "id": "977b2794",
   "metadata": {},
   "outputs": [],
   "source": [
    "df = df.loc[df['GAMES_PLAYED_TOTAL'] < 90000]\n",
    "\n",
    "df = df.dropna()"
   ]
  },
  {
   "cell_type": "code",
   "execution_count": 6,
   "id": "6475207a",
   "metadata": {},
   "outputs": [],
   "source": [
    "from sklearn.preprocessing import StandardScaler\n",
    "\n",
    "# 1. Seleccionar las columnas numéricas\n",
    "num_cols = df.select_dtypes(include=['number']).columns\n",
    "\n",
    "# 2. Excluir 'PLAYER_LEVEL_ID'\n",
    "cols_to_scale = num_cols.drop('PLAYER_LEVEL_ID')\n",
    "\n",
    "# 3. Instanciar el StandardScaler\n",
    "scaler = StandardScaler()\n",
    "\n",
    "# 4. Ajustar y transformar las columnas\n",
    "scaled_values = scaler.fit_transform(df[cols_to_scale])\n",
    "\n",
    "# 5. Crear nuevas columnas con sufijo '_std'\n",
    "scaled_df = pd.DataFrame(scaled_values, columns=[f\"{col}_std\" for col in cols_to_scale], index=df.index)\n",
    "\n",
    "# 6. Concatenar al dataframe original\n",
    "df = pd.concat([df, scaled_df], axis=1)\n"
   ]
  },
  {
   "cell_type": "code",
   "execution_count": 7,
   "id": "1a3ac070",
   "metadata": {},
   "outputs": [],
   "source": [
    "from sklearn.preprocessing import LabelEncoder\n",
    "\n",
    "le = LabelEncoder()\n",
    "df ['GENDER'] = le.fit_transform(df['GENDER'])"
   ]
  },
  {
   "cell_type": "code",
   "execution_count": 8,
   "id": "8927136e",
   "metadata": {},
   "outputs": [],
   "source": [
    "df['DOB'] = pd.to_datetime(df['DOB'])\n",
    "hoy = datetime.now()\n",
    "df['Edad'] = hoy.year - df['DOB'].dt.year\n",
    "df['Edad'] -= ((hoy.month < df['DOB'].dt.month) | \n",
    "               ((hoy.month == df['DOB'].dt.month) & \n",
    "                (hoy.day < df['DOB'].dt.day)))\n",
    "\n",
    "bins = [18, 25, 35, 45, 55, 65, 100]  # 100 es un valor arbitrario para cubrir edades mayores a 65\n",
    "labels = ['18-24', '25-34', '35-44', '45-54', '55-64', '65+']\n",
    "\n",
    "# Crear la columna 'Rango_Edad'\n",
    "df['Rango_Edad'] = pd.cut(df['Edad'], bins=bins, labels=labels, right=False)\n",
    "\n",
    "le_edad = LabelEncoder()\n",
    "df['Rango_Edad_le'] = le_edad.fit_transform(df['Rango_Edad'])"
   ]
  },
  {
   "cell_type": "code",
   "execution_count": 9,
   "id": "5d9e39d8",
   "metadata": {},
   "outputs": [],
   "source": [
    "columns_selected = ['AVG_BET_std',\n",
    "        'INITIAL_AMOUNT_std', 'GAMES_PLAYED_TOTAL_std',\n",
    "        'GAMES_WON_TOTAL_std', 'Rango_Edad_le']\n",
    "df_selected = df[columns_selected]"
   ]
  },
  {
   "cell_type": "code",
   "execution_count": 10,
   "id": "a5543afd",
   "metadata": {},
   "outputs": [],
   "source": [
    "from sklearn.cluster import KMeans\n",
    "\n",
    "wss = []\n",
    "for i in range(1,11):\n",
    "    kmeans = KMeans(n_clusters=i)\n",
    "    kmeans.fit(df_selected)\n",
    "    wss.append(kmeans.inertia_)\n"
   ]
  },
  {
   "cell_type": "code",
   "execution_count": 11,
   "id": "692085f7",
   "metadata": {},
   "outputs": [
    {
     "data": {
      "image/png": "[encoded data removed]",
      "text/plain": [
       "<Figure size 640x480 with 1 Axes>"
      ]
     },
     "metadata": {},
     "output_type": "display_data"
    }
   ],
   "source": [
    "plt.plot(range(1, 11), wss, marker='o')\n",
    "plt.show()"
   ]
  },
  {
   "cell_type": "code",
   "execution_count": 12,
   "id": "a4bd4674",
   "metadata": {},
   "outputs": [],
   "source": [
    "kmeans = KMeans(n_clusters=4)\n",
    "kmeans.fit(df_selected)\n",
    "clusters = kmeans.predict(df_selected)\n",
    "\n",
    "df['Cluster'] = clusters"
   ]
  },
  {
   "cell_type": "code",
   "execution_count": 13,
   "id": "26bcdbf3",
   "metadata": {},
   "outputs": [],
   "source": [
    "df.groupby('Cluster').agg({\n",
    "     'AVG_BET': 'mean',\n",
    "    'INITIAL_AMOUNT': 'mean',\n",
    "    'GAMES_PLAYED_TOTAL': 'mean',\n",
    "    'GAMES_WON_TOTAL': 'mean',\n",
    "    'Edad': 'mean',\n",
    "})\n",
    "\n",
    "df.to_csv('../../data/data-neza.csv')"
   ]
  }
 ],
 "metadata": {
  "kernelspec": {
   "display_name": "Foliatti",
   "language": "python",
   "name": "python3"
  },
  "language_info": {
   "codemirror_mode": {
    "name": "ipython",
    "version": 3
   },
   "file_extension": ".py",
   "mimetype": "text/x-python",
   "name": "python",
   "nbconvert_exporter": "python",
   "pygments_lexer": "ipython3",
   "version": "3.11.11"
  }
 },
 "nbformat": 4,
 "nbformat_minor": 5
}
