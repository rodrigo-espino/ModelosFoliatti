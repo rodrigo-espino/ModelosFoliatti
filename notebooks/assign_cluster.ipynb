{
 "cells": [
  {
   "cell_type": "code",
   "execution_count": 1,
   "id": "ba819b48",
   "metadata": {},
   "outputs": [],
   "source": [
    "import pandas as pd\n",
    "import joblib\n",
    "\n",
    "file_path = '../models/knn_pipeline_foliattiGeneral_v0.pkl'"
   ]
  },
  {
   "cell_type": "code",
   "execution_count": 2,
   "id": "4d08cb74",
   "metadata": {},
   "outputs": [],
   "source": [
    "model = joblib.load(file_path)"
   ]
  },
  {
   "cell_type": "code",
   "execution_count": 3,
   "id": "0f43726e",
   "metadata": {},
   "outputs": [],
   "source": [
    "df = pd.read_csv('../data/data_general_2.csv')"
   ]
  },
  {
   "cell_type": "code",
   "execution_count": 4,
   "id": "22b5c704",
   "metadata": {},
   "outputs": [],
   "source": [
    "features = ['AVG_BET','INITIAL_AMOUNT', 'GAMES_PLAYED_TOTAL', 'GAMES_WON_TOTAL', 'Rango_Edad_le']\n",
    "X = df[features]\n",
    "y_pred = model.predict(X)"
   ]
  },
  {
   "cell_type": "code",
   "execution_count": 5,
   "id": "acb4bca1",
   "metadata": {},
   "outputs": [],
   "source": [
    "df['Cluster'] = y_pred"
   ]
  },
  {
   "cell_type": "code",
   "execution_count": 7,
   "id": "0648d597",
   "metadata": {},
   "outputs": [],
   "source": [
    "df.to_csv('../data/data_general_2.csv')"
   ]
  }
 ],
 "metadata": {
  "kernelspec": {
   "display_name": "Foliatti",
   "language": "python",
   "name": "python3"
  },
  "language_info": {
   "codemirror_mode": {
    "name": "ipython",
    "version": 3
   },
   "file_extension": ".py",
   "mimetype": "text/x-python",
   "name": "python",
   "nbconvert_exporter": "python",
   "pygments_lexer": "ipython3",
   "version": "3.11.11"
  }
 },
 "nbformat": 4,
 "nbformat_minor": 5
}
