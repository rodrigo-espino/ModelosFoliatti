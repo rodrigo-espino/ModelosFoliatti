{
 "cells": [
  {
   "cell_type": "code",
   "execution_count": 32,
   "id": "2f5e5174",
   "metadata": {},
   "outputs": [],
   "source": [
    "import pandas as pd\n",
    "import numpy as np\n",
    "import os\n",
    "import matplotlib.pyplot as plt\n",
    "import seaborn as sns\n",
    "from datetime import datetime\n",
    "import joblib\n",
    "\n",
    "from sklearn.metrics import roc_curve, RocCurveDisplay, roc_auc_score, \\\n",
    "                            auc, confusion_matrix, accuracy_score, \\\n",
    "                            classification_report\n",
    "\n",
    "from sklearn.model_selection import train_test_split, cross_val_score\n",
    "\n",
    "from sklearn.preprocessing import Normalizer, StandardScaler, MinMaxScaler\n",
    "\n",
    "from sklearn.neighbors import KNeighborsClassifier\n",
    "from sklearn.linear_model import RidgeClassifier\n",
    "from sklearn.naive_bayes import GaussianNB\n",
    "from sklearn.ensemble import RandomForestClassifier\n",
    "\n",
    "from sklearn.model_selection import train_test_split, GridSearchCV\n",
    "from sklearn.ensemble import RandomForestRegressor\n",
    "from sklearn.metrics import mean_absolute_error, r2_score\n",
    "\n",
    "from sklearn.pipeline import Pipeline\n",
    "pd.set_option('display.float_format', '{:.2f}'.format)"
   ]
  },
  {
   "cell_type": "code",
   "execution_count": 2,
   "id": "8780989b",
   "metadata": {},
   "outputs": [],
   "source": [
    "df_data_general = pd.read_csv('../../../data/data_general.csv')"
   ]
  },
  {
   "cell_type": "code",
   "execution_count": 3,
   "id": "30c5f83c",
   "metadata": {},
   "outputs": [],
   "source": [
    "df_data_general['INITIAL_TIME'] = pd.to_datetime(df_data_general['INITIAL_TIME'])\n",
    "df_data_general['FINAL_TIME'] = pd.to_datetime(df_data_general['FINAL_TIME'])"
   ]
  },
  {
   "cell_type": "code",
   "execution_count": 4,
   "id": "1f12ddd0",
   "metadata": {},
   "outputs": [],
   "source": [
    "df_data_general['INITIAL_TIME'] = df_data_general['INITIAL_TIME'].dt.to_period('D')\n",
    "df_data_general['INITIAL_TIME'] = df_data_general['INITIAL_TIME'].dt.to_timestamp()\n",
    "\n",
    "\n",
    "df_data_general['FINAL_TIME'] = df_data_general['FINAL_TIME'].dt.to_period('D')\n",
    "df_data_general['FINAL_TIME'] = df_data_general['FINAL_TIME'].dt.to_timestamp()"
   ]
  },
  {
   "cell_type": "code",
   "execution_count": 5,
   "id": "d898a7eb",
   "metadata": {},
   "outputs": [],
   "source": [
    "df_data_general['Weekday']= df_data_general['INITIAL_TIME'].dt.strftime('%A')\n",
    "df_data_general['number_of_day'] = df_data_general['INITIAL_TIME'].dt.day_of_week"
   ]
  },
  {
   "cell_type": "code",
   "execution_count": 11,
   "id": "5e6f4763",
   "metadata": {},
   "outputs": [],
   "source": [
    "df_data_general['NET_SPEND'] = df_data_general['FINAL_AMOUNT'] - df_data_general['INITIAL_AMOUNT']\n",
    "df_data_general['WON_CASINO'] = df_data_general['NET_SPEND'] < 0"
   ]
  },
  {
   "cell_type": "code",
   "execution_count": 12,
   "id": "e5cad9fa",
   "metadata": {},
   "outputs": [
    {
     "data": {
      "text/html": [
       "<div>\n",
       "<style scoped>\n",
       "    .dataframe tbody tr th:only-of-type {\n",
       "        vertical-align: middle;\n",
       "    }\n",
       "\n",
       "    .dataframe tbody tr th {\n",
       "        vertical-align: top;\n",
       "    }\n",
       "\n",
       "    .dataframe thead th {\n",
       "        text-align: right;\n",
       "    }\n",
       "</style>\n",
       "<table border=\"1\" class=\"dataframe\">\n",
       "  <thead>\n",
       "    <tr style=\"text-align: right;\">\n",
       "      <th></th>\n",
       "      <th>number_of_day</th>\n",
       "      <th>INITIAL_AMOUNT</th>\n",
       "      <th>BET_TOTAL</th>\n",
       "      <th>TIME_ON_DEVICE_SEC</th>\n",
       "      <th>GAMES_PLAYED_TOTAL</th>\n",
       "      <th>NET_SPEND</th>\n",
       "    </tr>\n",
       "  </thead>\n",
       "  <tbody>\n",
       "    <tr>\n",
       "      <th>number_of_day</th>\n",
       "      <td>1.00</td>\n",
       "      <td>0.01</td>\n",
       "      <td>0.01</td>\n",
       "      <td>0.02</td>\n",
       "      <td>0.01</td>\n",
       "      <td>-0.01</td>\n",
       "    </tr>\n",
       "    <tr>\n",
       "      <th>INITIAL_AMOUNT</th>\n",
       "      <td>0.01</td>\n",
       "      <td>1.00</td>\n",
       "      <td>0.45</td>\n",
       "      <td>0.17</td>\n",
       "      <td>0.20</td>\n",
       "      <td>-0.35</td>\n",
       "    </tr>\n",
       "    <tr>\n",
       "      <th>BET_TOTAL</th>\n",
       "      <td>0.01</td>\n",
       "      <td>0.45</td>\n",
       "      <td>1.00</td>\n",
       "      <td>0.80</td>\n",
       "      <td>0.85</td>\n",
       "      <td>-0.43</td>\n",
       "    </tr>\n",
       "    <tr>\n",
       "      <th>TIME_ON_DEVICE_SEC</th>\n",
       "      <td>0.02</td>\n",
       "      <td>0.17</td>\n",
       "      <td>0.80</td>\n",
       "      <td>1.00</td>\n",
       "      <td>0.93</td>\n",
       "      <td>-0.16</td>\n",
       "    </tr>\n",
       "    <tr>\n",
       "      <th>GAMES_PLAYED_TOTAL</th>\n",
       "      <td>0.01</td>\n",
       "      <td>0.20</td>\n",
       "      <td>0.85</td>\n",
       "      <td>0.93</td>\n",
       "      <td>1.00</td>\n",
       "      <td>-0.27</td>\n",
       "    </tr>\n",
       "    <tr>\n",
       "      <th>NET_SPEND</th>\n",
       "      <td>-0.01</td>\n",
       "      <td>-0.35</td>\n",
       "      <td>-0.43</td>\n",
       "      <td>-0.16</td>\n",
       "      <td>-0.27</td>\n",
       "      <td>1.00</td>\n",
       "    </tr>\n",
       "  </tbody>\n",
       "</table>\n",
       "</div>"
      ],
      "text/plain": [
       "                    number_of_day  INITIAL_AMOUNT  BET_TOTAL  \\\n",
       "number_of_day                1.00            0.01       0.01   \n",
       "INITIAL_AMOUNT               0.01            1.00       0.45   \n",
       "BET_TOTAL                    0.01            0.45       1.00   \n",
       "TIME_ON_DEVICE_SEC           0.02            0.17       0.80   \n",
       "GAMES_PLAYED_TOTAL           0.01            0.20       0.85   \n",
       "NET_SPEND                   -0.01           -0.35      -0.43   \n",
       "\n",
       "                    TIME_ON_DEVICE_SEC  GAMES_PLAYED_TOTAL  NET_SPEND  \n",
       "number_of_day                     0.02                0.01      -0.01  \n",
       "INITIAL_AMOUNT                    0.17                0.20      -0.35  \n",
       "BET_TOTAL                         0.80                0.85      -0.43  \n",
       "TIME_ON_DEVICE_SEC                1.00                0.93      -0.16  \n",
       "GAMES_PLAYED_TOTAL                0.93                1.00      -0.27  \n",
       "NET_SPEND                        -0.16               -0.27       1.00  "
      ]
     },
     "execution_count": 12,
     "metadata": {},
     "output_type": "execute_result"
    }
   ],
   "source": [
    "df_data_general[['number_of_day', 'INITIAL_AMOUNT', 'BET_TOTAL', 'TIME_ON_DEVICE_SEC', 'GAMES_PLAYED_TOTAL', 'NET_SPEND']].corr(method='spearman')"
   ]
  },
  {
   "cell_type": "code",
   "execution_count": 13,
   "id": "d4744bf8",
   "metadata": {},
   "outputs": [],
   "source": [
    "df_data_general['TIME_ON_DEVICE_MIN'] = df_data_general['TIME_ON_DEVICE_SEC'] / 60"
   ]
  },
  {
   "cell_type": "code",
   "execution_count": 14,
   "id": "e07338a4",
   "metadata": {},
   "outputs": [],
   "source": [
    "df_data_general['Hour'] = df_data_general['INITIAL_TIME'].dt.hour\n",
    "df_data_general['Weekday'] = df_data_general['INITIAL_TIME'].dt.weekday   # 0=Lunes, 6=Domingo\n",
    "df_data_general['Weekend'] = (df_data_general['Weekday'] >= 5).astype(int)\n",
    "df_data_general['Month'] = df_data_general['INITIAL_TIME'].dt.month"
   ]
  },
  {
   "cell_type": "code",
   "execution_count": 21,
   "id": "ccb52903",
   "metadata": {},
   "outputs": [],
   "source": [
    "df_data_general = df_data_general[df_data_general['TIME_ON_DEVICE_MIN'] < 600 ]\n",
    "df_data_general = df_data_general[df_data_general['NET_SPEND'] < 10000 ]"
   ]
  },
  {
   "cell_type": "code",
   "execution_count": 22,
   "id": "e3e21c1e",
   "metadata": {},
   "outputs": [
    {
     "name": "stdout",
     "output_type": "stream",
     "text": [
      "MAE: 195.31740564181402\n",
      "R2: 0.05499674931564458\n"
     ]
    }
   ],
   "source": [
    "features = ['INITIAL_AMOUNT','AVG_BET','Cluster', 'BET_TOTAL']\n",
    "\n",
    "X = df_data_general[features]\n",
    "y = df_data_general['NET_SPEND']\n",
    "\n",
    "# Train-test split\n",
    "X_train, X_test, y_train, y_test = train_test_split(X, y, test_size=0.2, random_state=42)\n",
    "\n",
    "# Modelo\n",
    "model = RandomForestRegressor(random_state=42)\n",
    "model.fit(X_train, y_train)\n",
    "\n",
    "# Predicción\n",
    "y_pred = model.predict(X_test)\n",
    "\n",
    "print(\"MAE:\", mean_absolute_error(y_test, y_pred))\n",
    "print(\"R2:\", r2_score(y_test, y_pred))"
   ]
  },
  {
   "cell_type": "code",
   "execution_count": 23,
   "id": "25c00954",
   "metadata": {},
   "outputs": [
    {
     "name": "stdout",
     "output_type": "stream",
     "text": [
      "MAE: 195.44769168121894\n",
      "R2: 0.052330055489557825\n"
     ]
    }
   ],
   "source": [
    "std_scaler = StandardScaler()\n",
    "pipe = Pipeline([\n",
    "        ('scaler', std_scaler),\n",
    "        ('reg', RandomForestRegressor())\n",
    "    ])\n",
    "\n",
    "pipe.fit(X_train, y_train)\n",
    "\n",
    "y_hat = pipe.predict(X_test)\n",
    "\n",
    "print(\"MAE:\", mean_absolute_error(y_test, y_hat))\n",
    "print(\"R2:\", r2_score(y_test, y_hat))"
   ]
  },
  {
   "cell_type": "code",
   "execution_count": 24,
   "id": "88ea4530",
   "metadata": {},
   "outputs": [],
   "source": [
    "# joblib.dump(pipe, '../../../models/win_total_pipeline_regressor_foliattiGeneral_v1.pkl')"
   ]
  },
  {
   "cell_type": "code",
   "execution_count": 25,
   "id": "6c4c822a",
   "metadata": {},
   "outputs": [
    {
     "data": {
      "text/plain": [
       "<Axes: xlabel='NET_SPEND'>"
      ]
     },
     "execution_count": 25,
     "metadata": {},
     "output_type": "execute_result"
    },
    {
     "data": {
      "image/png": "[encoded data removed]",
      "text/plain": [
       "<Figure size 640x480 with 1 Axes>"
      ]
     },
     "metadata": {},
     "output_type": "display_data"
    }
   ],
   "source": [
    "sns.scatterplot(x=y_test, y=y_hat)"
   ]
  },
  {
   "cell_type": "code",
   "execution_count": null,
   "id": "29e7a05c",
   "metadata": {},
   "outputs": [
    {
     "name": "stdout",
     "output_type": "stream",
     "text": [
      "              precision    recall  f1-score   support\n",
      "\n",
      "       False       0.75      0.33      0.46     15100\n",
      "        True       0.84      0.97      0.90     52888\n",
      "\n",
      "    accuracy                           0.83     67988\n",
      "   macro avg       0.79      0.65      0.68     67988\n",
      "weighted avg       0.82      0.83      0.80     67988\n",
      "\n"
     ]
    }
   ],
   "source": [
    "# pipe_class = Pipeline([\n",
    "#     (\"scaler\", StandardScaler()),\n",
    "#     (\"knn\", KNeighborsClassifier())\n",
    "# ])\n",
    "\n",
    "# param_grid = {\n",
    "#     \"knn__n_neighbors\": range(1, 11)\n",
    "# }\n",
    "\n",
    "# grid = GridSearchCV(pipe_class, param_grid=param_grid, cv=2, refit=True)\n",
    "\n",
    "# y = df_data_general['WON_CASINO']\n",
    "# X_train, X_test, y_train, y_test = train_test_split(X, y, test_size=0.3, random_state=52)\n",
    "# grid.fit(X_train, y_train)\n",
    "# y_hat_knn = grid.predict(X_test)\n",
    "# print(classification_report(y_test, y_hat_knn))"
   ]
  },
  {
   "cell_type": "code",
   "execution_count": null,
   "id": "6c525010",
   "metadata": {},
   "outputs": [
    {
     "name": "stdout",
     "output_type": "stream",
     "text": [
      "Mejor k: {'knn__n_neighbors': 9}\n",
      "Mejor score: 0.8270516979849315\n"
     ]
    }
   ],
   "source": [
    "# print(\"Mejor k:\", grid.best_params_)\n",
    "# print(\"Mejor score:\", grid.best_score_)"
   ]
  },
  {
   "cell_type": "code",
   "execution_count": 43,
   "id": "69d665d4",
   "metadata": {},
   "outputs": [],
   "source": [
    "false_df = df_data_general[df_data_general['WON_CASINO'] == False]\n",
    "true_df  = df_data_general[df_data_general['WON_CASINO'] == True]\n",
    "\n",
    "# Submuestreo de la clase mayoritaria (True) al tamaño de la minoritaria (False)\n",
    "true_sample = true_df.sample(n=len(false_df), random_state=42)\n",
    "\n",
    "# Unir ambas\n",
    "df_balanced = pd.concat([false_df, true_sample])\n",
    "\n",
    "# Mezclar\n",
    "df_balanced = df_balanced.sample(frac=1, random_state=42).reset_index(drop=True)"
   ]
  },
  {
   "cell_type": "code",
   "execution_count": 48,
   "id": "da34a7e5",
   "metadata": {},
   "outputs": [
    {
     "name": "stdout",
     "output_type": "stream",
     "text": [
      "              precision    recall  f1-score   support\n",
      "\n",
      "       False       0.69      0.62      0.65     15047\n",
      "        True       0.65      0.72      0.69     14998\n",
      "\n",
      "    accuracy                           0.67     30045\n",
      "   macro avg       0.67      0.67      0.67     30045\n",
      "weighted avg       0.67      0.67      0.67     30045\n",
      "\n"
     ]
    }
   ],
   "source": [
    "pipe_class = Pipeline([\n",
    "    (\"scaler\", StandardScaler()),\n",
    "    (\"knn\", KNeighborsClassifier(n_neighbors=9))\n",
    "])\n",
    "X = df_balanced[features]\n",
    "y = df_balanced['WON_CASINO']\n",
    "X_train, X_test, y_train, y_test = train_test_split(X, y, test_size=0.3, random_state=52)\n",
    "pipe_class.fit(X_train, y_train)\n",
    "y_hat_knn = pipe_class.predict(X_test)\n",
    "print(classification_report(y_test, y_hat_knn))"
   ]
  }
 ],
 "metadata": {
  "kernelspec": {
   "display_name": "Foliatti",
   "language": "python",
   "name": "python3"
  },
  "language_info": {
   "codemirror_mode": {
    "name": "ipython",
    "version": 3
   },
   "file_extension": ".py",
   "mimetype": "text/x-python",
   "name": "python",
   "nbconvert_exporter": "python",
   "pygments_lexer": "ipython3",
   "version": "3.11.11"
  }
 },
 "nbformat": 4,
 "nbformat_minor": 5
}
