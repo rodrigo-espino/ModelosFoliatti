{
 "cells": [
  {
   "cell_type": "code",
   "execution_count": null,
   "id": "2f5e5174",
   "metadata": {},
   "outputs": [],
   "source": [
    "import pandas as pd\n",
    "import numpy as np\n",
    "import os\n",
    "import matplotlib.pyplot as plt\n",
    "import seaborn as sns\n",
    "from datetime import datetime\n",
    "import joblib\n",
    "\n",
    "from sklearn.metrics import roc_curve, RocCurveDisplay, roc_auc_score, \\\n",
    "                            auc, confusion_matrix, accuracy_score, \\\n",
    "                            classification_report\n",
    "\n",
    "from sklearn.model_selection import train_test_split, cross_val_score\n",
    "\n",
    "from sklearn.preprocessing import Normalizer, StandardScaler, MinMaxScaler\n",
    "\n",
    "from sklearn.neighbors import KNeighborsClassifier\n",
    "from sklearn.linear_model import RidgeClassifier\n",
    "from sklearn.naive_bayes import GaussianNB\n",
    "from sklearn.ensemble import RandomForestClassifier\n",
    "\n",
    "from sklearn.model_selection import train_test_split\n",
    "from sklearn.ensemble import RandomForestRegressor\n",
    "from sklearn.metrics import mean_absolute_error, r2_score\n",
    "\n",
    "from sklearn.pipeline import Pipeline\n",
    "pd.set_option('display.float_format', '{:.2f}'.format)"
   ]
  },
  {
   "cell_type": "code",
   "execution_count": null,
   "id": "8780989b",
   "metadata": {},
   "outputs": [],
   "source": [
    "df_data_general = pd.read_csv('../../data/data_general.csv')"
   ]
  },
  {
   "cell_type": "code",
   "execution_count": null,
   "id": "30c5f83c",
   "metadata": {},
   "outputs": [],
   "source": [
    "df_data_general['INITIAL_TIME'] = pd.to_datetime(df_data_general['INITIAL_TIME'])\n",
    "df_data_general['FINAL_TIME'] = pd.to_datetime(df_data_general['FINAL_TIME'])"
   ]
  },
  {
   "cell_type": "code",
   "execution_count": null,
   "id": "1f12ddd0",
   "metadata": {},
   "outputs": [],
   "source": [
    "df_data_general['INITIAL_TIME'] = df_data_general['INITIAL_TIME'].dt.to_period('D')\n",
    "df_data_general['INITIAL_TIME'] = df_data_general['INITIAL_TIME'].dt.to_timestamp()\n",
    "\n",
    "\n",
    "df_data_general['FINAL_TIME'] = df_data_general['FINAL_TIME'].dt.to_period('D')\n",
    "df_data_general['FINAL_TIME'] = df_data_general['FINAL_TIME'].dt.to_timestamp()"
   ]
  },
  {
   "cell_type": "code",
   "execution_count": null,
   "id": "d898a7eb",
   "metadata": {},
   "outputs": [],
   "source": [
    "df_data_general['Weekday']= df_data_general['INITIAL_TIME'].dt.strftime('%A')\n",
    "df_data_general['number_of_day'] = df_data_general['INITIAL_TIME'].dt.day_of_week"
   ]
  },
  {
   "cell_type": "code",
   "execution_count": null,
   "id": "e5cad9fa",
   "metadata": {},
   "outputs": [],
   "source": [
    "df_data_general[['number_of_day', 'INITIAL_AMOUNT', 'BET_TOTAL', 'TIME_ON_DEVICE_SEC', 'GAMES_PLAYED_TOTAL']].corr(method='spearman')"
   ]
  },
  {
   "cell_type": "code",
   "execution_count": null,
   "id": "eee82134",
   "metadata": {},
   "outputs": [],
   "source": [
    "df_data_general['NET_SPEND'] = df_data_general['FINAL_AMOUNT'] - df_data_general['INITIAL_AMOUNT']"
   ]
  },
  {
   "cell_type": "code",
   "execution_count": null,
   "id": "d4744bf8",
   "metadata": {},
   "outputs": [],
   "source": [
    "df_data_general['TIME_ON_DEVICE_MIN'] = df_data_general['TIME_ON_DEVICE_SEC'] / 60"
   ]
  },
  {
   "cell_type": "code",
   "execution_count": null,
   "id": "e07338a4",
   "metadata": {},
   "outputs": [],
   "source": [
    "df_data_general['Hour'] = df_data_general['INITIAL_TIME'].dt.hour\n",
    "df_data_general['Weekday'] = df_data_general['INITIAL_TIME'].dt.weekday   # 0=Lunes, 6=Domingo\n",
    "df_data_general['Weekend'] = (df_data_general['Weekday'] >= 5).astype(int)\n",
    "df_data_general['Month'] = df_data_general['INITIAL_TIME'].dt.month"
   ]
  },
  {
   "cell_type": "code",
   "execution_count": null,
   "id": "ccb52903",
   "metadata": {},
   "outputs": [],
   "source": [
    "df_data_general = df_data_general[df_data_general['TIME_ON_DEVICE_MIN'] < 600 ]"
   ]
  },
  {
   "cell_type": "code",
   "execution_count": null,
   "id": "e3e21c1e",
   "metadata": {},
   "outputs": [],
   "source": [
    "features = ['INITIAL_AMOUNT','AVG_BET','Cluster', 'TIME_ON_DEVICE_MIN']\n",
    "\n",
    "X = df_data_general[features]\n",
    "y = df_data_general['BET_TOTAL']\n",
    "\n",
    "# Train-test split\n",
    "X_train, X_test, y_train, y_test = train_test_split(X, y, test_size=0.2, random_state=42)\n",
    "\n",
    "# Modelo\n",
    "model = RandomForestRegressor(random_state=42)\n",
    "model.fit(X_train, y_train)\n",
    "\n",
    "# Predicción\n",
    "y_pred = model.predict(X_test)\n",
    "\n",
    "print(\"MAE:\", mean_absolute_error(y_test, y_pred))\n",
    "print(\"R2:\", r2_score(y_test, y_pred))"
   ]
  },
  {
   "cell_type": "code",
   "execution_count": null,
   "id": "25c00954",
   "metadata": {},
   "outputs": [],
   "source": [
    "std_scaler = StandardScaler()\n",
    "pipe = Pipeline([\n",
    "        ('scaler', std_scaler),\n",
    "        ('reg', RandomForestRegressor())\n",
    "    ])\n",
    "\n",
    "pipe.fit(X_train, y_train)\n",
    "\n",
    "y_hat = pipe.predict(X_test)\n",
    "\n",
    "print(\"MAE:\", mean_absolute_error(y_test, y_hat))\n",
    "print(\"R2:\", r2_score(y_test, y_hat))"
   ]
  },
  {
   "cell_type": "code",
   "execution_count": null,
   "id": "6c4c822a",
   "metadata": {},
   "outputs": [],
   "source": [
    "sns.scatterplot(x=y_test, y=y_hat)"
   ]
  },
  {
   "cell_type": "code",
   "execution_count": null,
   "id": "a5411509",
   "metadata": {},
   "outputs": [],
   "source": [
    "# joblib.dump(pipe, '../../models/time_on_device_pipeline_regressor_foliat÷tiGeneral_v1.pkl')"
   ]
  }
 ],
 "metadata": {
  "kernelspec": {
   "display_name": "Foliatti",
   "language": "python",
   "name": "python3"
  },
  "language_info": {
   "codemirror_mode": {
    "name": "ipython",
    "version": 3
   },
   "file_extension": ".py",
   "mimetype": "text/x-python",
   "name": "python",
   "nbconvert_exporter": "python",
   "pygments_lexer": "ipython3",
   "version": "3.11.11"
  }
 },
 "nbformat": 4,
 "nbformat_minor": 5
}
