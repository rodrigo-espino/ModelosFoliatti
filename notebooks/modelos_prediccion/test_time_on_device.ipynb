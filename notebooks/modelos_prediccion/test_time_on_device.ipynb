{
 "cells": [
  {
   "cell_type": "code",
   "execution_count": 14,
   "id": "abed7513",
   "metadata": {},
   "outputs": [],
   "source": [
    "import sys\n",
    "import os\n",
    "\n",
    "# Ruta al proyecto raíz donde está la carpeta 'scripts'\n",
    "project_root = os.path.abspath('../../')  # o usa la ruta absoluta si prefieres\n",
    "sys.path.append(project_root)"
   ]
  },
  {
   "cell_type": "code",
   "execution_count": 15,
   "id": "2e787536",
   "metadata": {},
   "outputs": [],
   "source": [
    "import pandas as pd\n",
    "import seaborn as sns \n",
    "import matplotlib.pyplot as plt \n",
    "import numpy as np\n",
    "\n",
    "from sklearn.metrics import roc_curve, RocCurveDisplay, roc_auc_score, \\\n",
    "                            auc, confusion_matrix, accuracy_score, \\\n",
    "                            classification_report\n",
    "\n",
    "from datetime import datetime\n",
    "from dotenv import load_dotenv\n",
    "from sqlalchemy import create_engine\n",
    "from sqlalchemy.orm import sessionmaker\n",
    "\n",
    "import joblib"
   ]
  },
  {
   "cell_type": "code",
   "execution_count": 16,
   "id": "c294dc8e",
   "metadata": {},
   "outputs": [],
   "source": [
    "df_data_general = pd.read_csv('../../data/data_general.csv')"
   ]
  },
  {
   "cell_type": "code",
   "execution_count": 17,
   "id": "dd88cf7f",
   "metadata": {},
   "outputs": [],
   "source": [
    "query = \"\"\" \n",
    "BEGIN\n",
    "    DECLARE @TotalRows INT;\n",
    "    DECLARE @SampleSize INT;\n",
    "    DECLARE @Q1 FLOAT, @Q3 FLOAT, @IQR FLOAT;\n",
    "    DECLARE @LowerBound FLOAT, @UpperBound FLOAT;\n",
    "\n",
    "    -- Contar el total de filas\n",
    "    SELECT @TotalRows = COUNT(*)\n",
    "    FROM dbo.BI_GAME_SESSIONS gs\n",
    "    INNER JOIN dbo.BI_CARDS crd ON crd.CARD_ID = gs.CARD_ID\n",
    "    INNER JOIN dbo.BI_PLAYERS pl ON pl.PLAYER_ID = crd.PLAYER_ID\n",
    "    WHERE gs.INITIAL_TIME >= '2024-01-01';\n",
    "\n",
    "    -- Calcular tamaño de muestra\n",
    "    SET @SampleSize = CEILING(@TotalRows * 0.01);\n",
    "\n",
    "    -- Calcular Q1 y Q3 usando PERCENTILE_CONT\n",
    "    WITH OrderedValues AS (\n",
    "        SELECT CAST(gs.INITIAL_AMOUNT AS FLOAT) AS INITIAL_AMOUNT\n",
    "        FROM dbo.BI_GAME_SESSIONS gs\n",
    "        INNER JOIN dbo.BI_CARDS crd ON crd.CARD_ID = gs.CARD_ID\n",
    "        INNER JOIN dbo.BI_PLAYERS pl ON pl.PLAYER_ID = crd.PLAYER_ID\n",
    "        WHERE gs.INITIAL_TIME >= '2024-01-01'\n",
    "    )\n",
    "  \n",
    "\n",
    "    -- Seleccionar muestra filtrando outliers\n",
    "    SELECT TOP (@SampleSize)\n",
    "           pl.PLAYER_ID,\n",
    "           pl.DOB,\n",
    "           pl.GENDER,\n",
    "           gs.AVG_BET,\n",
    "           gs.BET_TOTAL,\n",
    "           gs.INITIAL_AMOUNT,\n",
    "           gs.INITIAL_PROMO_AMOUNT,\n",
    "           gs.FINAL_AMOUNT,\n",
    "           gs.FINAL_PROMO_AMOUNT,\n",
    "           gs.MACHINE_ID,\n",
    "           gs.WIN_TOTAL,\n",
    "           gs.GAMES_PLAYED_TOTAL,\n",
    "           gs.GAMES_WON_TOTAL,\n",
    "           gs.TIME_ON_DEVICE_SEC\n",
    "    FROM dbo.BI_GAME_SESSIONS gs\n",
    "    INNER JOIN dbo.BI_CARDS crd ON crd.CARD_ID = gs.CARD_ID\n",
    "    INNER JOIN dbo.BI_PLAYERS pl ON pl.PLAYER_ID = crd.PLAYER_ID\n",
    "    WHERE gs.INITIAL_TIME >= '2024-01-01'\n",
    "    ORDER BY CHECKSUM(NEWID());\n",
    "END\n",
    "\"\"\""
   ]
  },
  {
   "cell_type": "code",
   "execution_count": 18,
   "id": "d52e7a46",
   "metadata": {},
   "outputs": [
    {
     "name": "stderr",
     "output_type": "stream",
     "text": [
      "c:\\Users\\ismer\\Desktop\\Foliatti\\venv\\Lib\\site-packages\\sklearn\\base.py:442: InconsistentVersionWarning: Trying to unpickle estimator StandardScaler from version 1.4.2 when using version 1.7.1. This might lead to breaking code or invalid results. Use at your own risk. For more info please refer to:\n",
      "https://scikit-learn.org/stable/model_persistence.html#security-maintainability-limitations\n",
      "  warnings.warn(\n",
      "c:\\Users\\ismer\\Desktop\\Foliatti\\venv\\Lib\\site-packages\\sklearn\\base.py:442: InconsistentVersionWarning: Trying to unpickle estimator KNeighborsClassifier from version 1.4.2 when using version 1.7.1. This might lead to breaking code or invalid results. Use at your own risk. For more info please refer to:\n",
      "https://scikit-learn.org/stable/model_persistence.html#security-maintainability-limitations\n",
      "  warnings.warn(\n",
      "c:\\Users\\ismer\\Desktop\\Foliatti\\venv\\Lib\\site-packages\\sklearn\\base.py:442: InconsistentVersionWarning: Trying to unpickle estimator Pipeline from version 1.4.2 when using version 1.7.1. This might lead to breaking code or invalid results. Use at your own risk. For more info please refer to:\n",
      "https://scikit-learn.org/stable/model_persistence.html#security-maintainability-limitations\n",
      "  warnings.warn(\n"
     ]
    }
   ],
   "source": [
    "cluster_classifier = joblib.load('../../models/knn_pipeline_foliattiGeneral_v0.pkl')\n",
    "bet_total_classifier = joblib.load('../../models/time_on_device_pipeline_foliattiGeneral_v0.pkl')"
   ]
  },
  {
   "cell_type": "code",
   "execution_count": 19,
   "id": "9d038eb3",
   "metadata": {},
   "outputs": [],
   "source": [
    "load_dotenv()\n",
    "\n",
    "\n",
    "server = os.getenv('SERVER')\n",
    "username = os.getenv('SQL_USERNAME')\n",
    "password = os.getenv('SQL_PASSWORD')\n",
    "\n",
    "## Neza ##\n",
    "database = 'ewise_BI_All'\n",
    "connection_string = f'mssql+pyodbc://{username}:{password}@{server}/{database}?driver=ODBC+Driver+17+for+SQL+Server'\n",
    "engine = create_engine(connection_string)\n",
    "Session = sessionmaker(bind=engine)\n",
    "session = Session()\n",
    "df = pd.read_sql_query(query, engine)"
   ]
  },
  {
   "cell_type": "code",
   "execution_count": 20,
   "id": "246dec37",
   "metadata": {},
   "outputs": [],
   "source": [
    "df['DOB'] = pd.to_datetime(df['DOB'])\n",
    "hoy = datetime.now()\n",
    "df['Edad'] = hoy.year - df['DOB'].dt.year\n",
    "df['Edad'] -= ((hoy.month < df['DOB'].dt.month) | \n",
    "               ((hoy.month == df['DOB'].dt.month) & \n",
    "                (hoy.day < df['DOB'].dt.day)))\n",
    "\n",
    "bins = [18, 25, 35, 45, 55, 65, 100]  # 100 es un valor arbitrario para cubrir edades mayores a 65\n",
    "labels = ['18-24', '25-34', '35-44', '45-54', '55-64', '65+']\n",
    "\n",
    "# Crear la columna 'Rango_Edad'\n",
    "df['Rango_Edad'] = pd.cut(df['Edad'], bins=bins, labels=labels, right=False)\n",
    "\n",
    "# le_edad = LabelEncoder()\n",
    "# df['Rango_Edad_le'] = le_edad.fit_transform(df['Rango_Edad'])"
   ]
  },
  {
   "cell_type": "code",
   "execution_count": 21,
   "id": "4deb3eb0",
   "metadata": {},
   "outputs": [
    {
     "name": "stdout",
     "output_type": "stream",
     "text": [
      "{'18-24': 0, '45-54': 3, '55-64': 4, '65+': 5, '25-34': 1, '35-44': 2, nan: 6}\n"
     ]
    }
   ],
   "source": [
    "mapping = dict(zip(df_data_general['Rango_Edad'], df_data_general['Rango_Edad_le']))\n",
    "\n",
    "print(mapping)\n",
    "\n",
    "df['Rango_Edad_le'] = df['Rango_Edad'].map(mapping)"
   ]
  },
  {
   "cell_type": "code",
   "execution_count": 27,
   "id": "495447c8",
   "metadata": {},
   "outputs": [],
   "source": [
    "def define_time_on_device(time):\n",
    "    time /= 60\n",
    "    if time < 10:\n",
    "        return 0\n",
    "    if time > 10 and time < 30:\n",
    "        return 1\n",
    "    if time >30 and time < 60:\n",
    "        return 2\n",
    "    else:\n",
    "        return 3\n",
    "    \n",
    "df['time_on_device_label'] =df['TIME_ON_DEVICE_SEC'].apply(define_time_on_device)"
   ]
  },
  {
   "cell_type": "code",
   "execution_count": 28,
   "id": "a835dc20",
   "metadata": {},
   "outputs": [],
   "source": [
    "df = df.dropna()"
   ]
  },
  {
   "cell_type": "code",
   "execution_count": 29,
   "id": "c26e9a7f",
   "metadata": {},
   "outputs": [],
   "source": [
    "X = df[['AVG_BET','INITIAL_AMOUNT', 'GAMES_PLAYED_TOTAL', 'GAMES_WON_TOTAL', 'Rango_Edad_le']]\n",
    "y_hat_test = cluster_classifier.predict(X)"
   ]
  },
  {
   "cell_type": "code",
   "execution_count": 30,
   "id": "e4cc8c91",
   "metadata": {},
   "outputs": [],
   "source": [
    "df['Cluster'] = y_hat_test"
   ]
  },
  {
   "cell_type": "code",
   "execution_count": 31,
   "id": "07921408",
   "metadata": {},
   "outputs": [],
   "source": [
    "X = df[['INITIAL_AMOUNT', 'Rango_Edad_le','Cluster', 'AVG_BET']]\n",
    "y = df['time_on_device_label']\n",
    "y_hat_bet_total = bet_total_classifier.predict(X)"
   ]
  },
  {
   "cell_type": "code",
   "execution_count": 32,
   "id": "e3724791",
   "metadata": {},
   "outputs": [
    {
     "name": "stdout",
     "output_type": "stream",
     "text": [
      "              precision    recall  f1-score   support\n",
      "\n",
      "           0       0.68      0.85      0.76      6484\n",
      "           1       0.41      0.23      0.30      3198\n",
      "           2       0.52      0.45      0.48      1144\n",
      "           3       0.58      0.43      0.49       577\n",
      "\n",
      "    accuracy                           0.62     11403\n",
      "   macro avg       0.55      0.49      0.51     11403\n",
      "weighted avg       0.58      0.62      0.59     11403\n",
      "\n"
     ]
    }
   ],
   "source": [
    "print(classification_report(y, y_hat_bet_total))"
   ]
  }
 ],
 "metadata": {
  "kernelspec": {
   "display_name": "venv (3.12.4)",
   "language": "python",
   "name": "python3"
  },
  "language_info": {
   "codemirror_mode": {
    "name": "ipython",
    "version": 3
   },
   "file_extension": ".py",
   "mimetype": "text/x-python",
   "name": "python",
   "nbconvert_exporter": "python",
   "pygments_lexer": "ipython3",
   "version": "3.12.4"
  }
 },
 "nbformat": 4,
 "nbformat_minor": 5
}
