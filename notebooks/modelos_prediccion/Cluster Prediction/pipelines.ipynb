{
 "cells": [
  {
   "cell_type": "code",
   "execution_count": null,
   "id": "bae5564e",
   "metadata": {},
   "outputs": [],
   "source": [
    "import pandas as pd\n",
    "import seaborn as sns \n",
    "import matplotlib.pyplot as plt \n",
    "import numpy as np\n",
    "\n",
    "from sklearn.neighbors import KNeighborsClassifier\n",
    "from sklearn.linear_model import RidgeClassifier\n",
    "from sklearn.naive_bayes import GaussianNB\n",
    "from sklearn.ensemble import RandomForestClassifier\n",
    "\n",
    "from sklearn.model_selection import train_test_split, cross_val_score\n",
    "\n",
    "from sklearn.metrics import roc_curve, RocCurveDisplay, roc_auc_score, \\\n",
    "                            auc, confusion_matrix, accuracy_score, \\\n",
    "                            classification_report\n",
    "\n",
    "from sklearn.preprocessing import label_binarize\n",
    "from sklearn.decomposition import PCA\n",
    "from sklearn.pipeline import Pipeline\n",
    "from sklearn.preprocessing import Normalizer, StandardScaler, MinMaxScaler\n",
    "from sklearn.feature_selection import SelectKBest, f_classif"
   ]
  },
  {
   "cell_type": "code",
   "execution_count": null,
   "id": "b7de5dac",
   "metadata": {},
   "outputs": [],
   "source": [
    "df_data_general = pd.read_csv('../../data/data_general.csv')"
   ]
  },
  {
   "cell_type": "code",
   "execution_count": null,
   "id": "6773c02a",
   "metadata": {},
   "outputs": [],
   "source": [
    "X = df_data_general[['AVG_BET','INITIAL_AMOUNT', 'GAMES_PLAYED_TOTAL', 'GAMES_WON_TOTAL', 'Rango_Edad_le']]\n",
    "y = df_data_general['Cluster']\n",
    "\n",
    "X_train, X_test, y_train, y_test = train_test_split(X, y, test_size=0.3, random_state=45)"
   ]
  },
  {
   "cell_type": "code",
   "execution_count": null,
   "id": "decb0496",
   "metadata": {},
   "outputs": [],
   "source": [
    "scaler = StandardScaler()"
   ]
  },
  {
   "cell_type": "markdown",
   "id": "95a8d0fd",
   "metadata": {},
   "source": [
    "# KNN"
   ]
  },
  {
   "cell_type": "markdown",
   "id": "81da8490",
   "metadata": {},
   "source": [
    "### Datos crudos"
   ]
  },
  {
   "cell_type": "code",
   "execution_count": null,
   "id": "544e5be9",
   "metadata": {},
   "outputs": [],
   "source": [
    "knn_pipeline_crudo = Pipeline([('clf', KNeighborsClassifier(n_neighbors=4))])\n",
    "knn_pipeline_crudo.fit(X_train, y_train)\n",
    "\n",
    "knn_crudo_y_pred = knn_pipeline_crudo.predict(X_test)\n",
    "\n",
    "print(classification_report(y_test, knn_crudo_y_pred))\n",
    "print(accuracy_score(y_test, knn_crudo_y_pred))"
   ]
  },
  {
   "cell_type": "markdown",
   "id": "04b8faec",
   "metadata": {},
   "source": [
    "### Solo STD"
   ]
  },
  {
   "cell_type": "code",
   "execution_count": null,
   "id": "7a939b1a",
   "metadata": {},
   "outputs": [],
   "source": [
    "knn_pipeline_std = Pipeline([\n",
    "        ('scaler', scaler),\n",
    "        ('clf', KNeighborsClassifier(n_neighbors=4))\n",
    "    ])\n",
    "knn_pipeline_std.fit(X_train, y_train)\n",
    "\n",
    "knn_std_y_pred = knn_pipeline_std.predict(X_test)\n",
    "\n",
    "print(classification_report(y_test, knn_std_y_pred))\n",
    "print(accuracy_score(y_test, knn_std_y_pred))"
   ]
  },
  {
   "cell_type": "markdown",
   "id": "4f33bea4",
   "metadata": {},
   "source": [
    "### Solo PCA"
   ]
  },
  {
   "cell_type": "code",
   "execution_count": null,
   "id": "fd47c456",
   "metadata": {},
   "outputs": [],
   "source": [
    "knn_pipeline_pca = Pipeline([\n",
    "        ('pca', PCA(n_components=2)),\n",
    "        ('clf', KNeighborsClassifier(n_neighbors=4))\n",
    "    ])\n",
    "knn_pipeline_pca.fit(X_train, y_train)\n",
    "\n",
    "knn_pca_y_pred = knn_pipeline_pca.predict(X_test)\n",
    "\n",
    "print(classification_report(y_test, knn_pca_y_pred))\n",
    "print(accuracy_score(y_test, knn_pca_y_pred))"
   ]
  },
  {
   "cell_type": "code",
   "execution_count": null,
   "id": "0979dcbc",
   "metadata": {},
   "outputs": [],
   "source": []
  },
  {
   "cell_type": "markdown",
   "id": "fd67f2bd",
   "metadata": {},
   "source": [
    "### PCA y STD"
   ]
  },
  {
   "cell_type": "code",
   "execution_count": null,
   "id": "2993a981",
   "metadata": {},
   "outputs": [],
   "source": [
    "knn_pipeline_pca_std = Pipeline([\n",
    "        ('scaler', scaler),\n",
    "        ('pca', PCA(n_components=2)),\n",
    "        ('clf', KNeighborsClassifier(n_neighbors=4))\n",
    "    ])\n",
    "knn_pipeline_pca_std.fit(X_train, y_train)\n",
    "\n",
    "knn_pca_std_y_pred = knn_pipeline_pca_std.predict(X_test)\n",
    "\n",
    "print(classification_report(y_test, knn_pca_std_y_pred))\n",
    "print(accuracy_score(y_test, knn_pca_std_y_pred))"
   ]
  },
  {
   "cell_type": "markdown",
   "id": "9446d843",
   "metadata": {},
   "source": [
    "### Seleccion de variables mas importantes"
   ]
  },
  {
   "cell_type": "code",
   "execution_count": null,
   "id": "d423ae66",
   "metadata": {},
   "outputs": [],
   "source": [
    "knn_pipeline_select = Pipeline([\n",
    "        ('scaler', scaler),\n",
    "        ('select', SelectKBest(score_func=f_classif, k=2)),\n",
    "        ('clf', KNeighborsClassifier(n_neighbors=4))\n",
    "    ])\n",
    "knn_pipeline_select.fit(X_train, y_train)\n",
    "\n",
    "knn_select_y_pred = knn_pipeline_select.predict(X_test)\n",
    "\n",
    "print(classification_report(y_test, knn_select_y_pred))\n",
    "print(accuracy_score(y_test, knn_select_y_pred))"
   ]
  },
  {
   "cell_type": "markdown",
   "id": "3376ce43",
   "metadata": {},
   "source": [
    "# Ridge Classifier"
   ]
  },
  {
   "cell_type": "markdown",
   "id": "670b47a3",
   "metadata": {},
   "source": [
    "### Datos crudos"
   ]
  },
  {
   "cell_type": "code",
   "execution_count": null,
   "id": "98708cce",
   "metadata": {},
   "outputs": [],
   "source": [
    "ridge_pipeline_crudo = Pipeline([('clf', RidgeClassifier())])\n",
    "ridge_pipeline_crudo.fit(X_train, y_train)\n",
    "\n",
    "ridge_crudo_y_pred = ridge_pipeline_crudo.predict(X_test)\n",
    "\n",
    "print(classification_report(y_test, ridge_crudo_y_pred))\n",
    "print(accuracy_score(y_test, ridge_crudo_y_pred))"
   ]
  },
  {
   "cell_type": "markdown",
   "id": "5a49718a",
   "metadata": {},
   "source": [
    "### Solo STD"
   ]
  },
  {
   "cell_type": "code",
   "execution_count": null,
   "id": "956d08d6",
   "metadata": {},
   "outputs": [],
   "source": [
    "ridge_pipeline_std = Pipeline([\n",
    "        ('scaler', scaler),\n",
    "        ('clf', RidgeClassifier())\n",
    "    ])\n",
    "ridge_pipeline_std.fit(X_train, y_train)\n",
    "\n",
    "ridge_std_y_pred = ridge_pipeline_std.predict(X_test)\n",
    "\n",
    "print(classification_report(y_test, ridge_std_y_pred))\n",
    "print(accuracy_score(y_test, ridge_std_y_pred))"
   ]
  },
  {
   "cell_type": "markdown",
   "id": "63571099",
   "metadata": {},
   "source": [
    "### Solo PCA"
   ]
  },
  {
   "cell_type": "code",
   "execution_count": null,
   "id": "4a296012",
   "metadata": {},
   "outputs": [],
   "source": [
    "ridge_pipeline_pca = Pipeline([\n",
    "        ('pca', PCA(n_components=2)),\n",
    "        ('clf', RidgeClassifier())\n",
    "    ])\n",
    "ridge_pipeline_pca.fit(X_train, y_train)\n",
    "\n",
    "ridge_pca_y_pred = ridge_pipeline_pca.predict(X_test)\n",
    "\n",
    "print(classification_report(y_test, ridge_pca_y_pred))\n",
    "print(accuracy_score(y_test, ridge_pca_y_pred))"
   ]
  },
  {
   "cell_type": "markdown",
   "id": "631876a6",
   "metadata": {},
   "source": [
    "### PCA y STD"
   ]
  },
  {
   "cell_type": "code",
   "execution_count": null,
   "id": "d7e53339",
   "metadata": {},
   "outputs": [],
   "source": [
    "ridge_pipeline_pca_std = Pipeline([\n",
    "        ('scaler', scaler),\n",
    "        ('pca', PCA(n_components=2)),\n",
    "        ('clf', RidgeClassifier())\n",
    "    ])\n",
    "ridge_pipeline_pca_std.fit(X_train, y_train)\n",
    "\n",
    "ridge_pca_std_y_pred = ridge_pipeline_pca_std.predict(X_test)\n",
    "\n",
    "print(classification_report(y_test, ridge_pca_std_y_pred))\n",
    "print(accuracy_score(y_test, ridge_pca_std_y_pred))"
   ]
  },
  {
   "cell_type": "markdown",
   "id": "8c1b8f8f",
   "metadata": {},
   "source": [
    "### Seleccion de variables mas importantes"
   ]
  },
  {
   "cell_type": "code",
   "execution_count": null,
   "id": "089aee2f",
   "metadata": {},
   "outputs": [],
   "source": [
    "ridge_pipeline_select = Pipeline([\n",
    "        ('scaler', scaler),\n",
    "        ('select', SelectKBest(score_func=f_classif, k=2)),\n",
    "        ('clf', RidgeClassifier())\n",
    "    ])\n",
    "ridge_pipeline_select.fit(X_train, y_train)\n",
    "\n",
    "ridge_select_y_pred = ridge_pipeline_select.predict(X_test)\n",
    "\n",
    "print(classification_report(y_test, ridge_select_y_pred))\n",
    "print(accuracy_score(y_test, ridge_select_y_pred))"
   ]
  },
  {
   "cell_type": "markdown",
   "id": "e3072683",
   "metadata": {},
   "source": [
    "# Gaussian"
   ]
  },
  {
   "cell_type": "markdown",
   "id": "95e40cfd",
   "metadata": {},
   "source": [
    "### Datos crudos"
   ]
  },
  {
   "cell_type": "code",
   "execution_count": null,
   "id": "7a9df526",
   "metadata": {},
   "outputs": [],
   "source": [
    "gaussian_pipeline_crudo = Pipeline([('clf', GaussianNB())])\n",
    "gaussian_pipeline_crudo.fit(X_train, y_train)\n",
    "\n",
    "gaussian_crudo_y_pred = gaussian_pipeline_crudo.predict(X_test)\n",
    "\n",
    "print(classification_report(y_test, gaussian_crudo_y_pred))\n",
    "print(accuracy_score(y_test, gaussian_crudo_y_pred))"
   ]
  },
  {
   "cell_type": "markdown",
   "id": "9267c1fa",
   "metadata": {},
   "source": [
    "### Solo STD"
   ]
  },
  {
   "cell_type": "code",
   "execution_count": null,
   "id": "79e2c4ce",
   "metadata": {},
   "outputs": [],
   "source": [
    "gaussian_pipeline_std = Pipeline([\n",
    "        ('scaler', scaler),\n",
    "        ('clf', GaussianNB())\n",
    "    ])\n",
    "gaussian_pipeline_std.fit(X_train, y_train)\n",
    "\n",
    "gaussian_std_y_pred = gaussian_pipeline_std.predict(X_test)\n",
    "\n",
    "print(classification_report(y_test, gaussian_std_y_pred))\n",
    "print(accuracy_score(y_test, gaussian_std_y_pred))"
   ]
  },
  {
   "cell_type": "markdown",
   "id": "68f913d3",
   "metadata": {},
   "source": [
    "### Solo PCA"
   ]
  },
  {
   "cell_type": "code",
   "execution_count": null,
   "id": "c96a0b6e",
   "metadata": {},
   "outputs": [],
   "source": [
    "gaussian_pipeline_pca = Pipeline([\n",
    "        ('pca', PCA(n_components=2)),\n",
    "        ('clf', GaussianNB())\n",
    "    ])\n",
    "gaussian_pipeline_pca.fit(X_train, y_train)\n",
    "\n",
    "gaussian_pca_y_pred = gaussian_pipeline_pca.predict(X_test)\n",
    "\n",
    "print(classification_report(y_test, gaussian_pca_y_pred))\n",
    "print(accuracy_score(y_test, gaussian_pca_y_pred))"
   ]
  },
  {
   "cell_type": "markdown",
   "id": "db750e61",
   "metadata": {},
   "source": [
    "### PCA y STD"
   ]
  },
  {
   "cell_type": "code",
   "execution_count": null,
   "id": "921568de",
   "metadata": {},
   "outputs": [],
   "source": [
    "gaussian_pipeline_pca_std = Pipeline([\n",
    "        ('scaler', scaler),\n",
    "        ('pca', PCA(n_components=2)),\n",
    "        ('clf', GaussianNB())\n",
    "    ])\n",
    "gaussian_pipeline_pca_std.fit(X_train, y_train)\n",
    "\n",
    "gaussian_pca_std_y_pred = gaussian_pipeline_pca_std.predict(X_test)\n",
    "\n",
    "print(classification_report(y_test, gaussian_pca_std_y_pred))\n",
    "print(accuracy_score(y_test, gaussian_pca_std_y_pred))"
   ]
  },
  {
   "cell_type": "markdown",
   "id": "2d3d2128",
   "metadata": {},
   "source": [
    "### Seleccion de variables mas importantes"
   ]
  },
  {
   "cell_type": "code",
   "execution_count": null,
   "id": "7e67e67b",
   "metadata": {},
   "outputs": [],
   "source": [
    "gaussian_pipeline_select = Pipeline([\n",
    "        ('scaler', scaler),\n",
    "        ('select', SelectKBest(score_func=f_classif, k=2)),\n",
    "        ('clf', GaussianNB())\n",
    "    ])\n",
    "gaussian_pipeline_select.fit(X_train, y_train)\n",
    "\n",
    "gaussian_select_y_pred = gaussian_pipeline_select.predict(X_test)\n",
    "\n",
    "print(classification_report(y_test, gaussian_select_y_pred))\n",
    "print(accuracy_score(y_test, gaussian_select_y_pred))"
   ]
  },
  {
   "cell_type": "markdown",
   "id": "08988a6f",
   "metadata": {},
   "source": [
    "# Random Forest"
   ]
  },
  {
   "cell_type": "markdown",
   "id": "79663d59",
   "metadata": {},
   "source": [
    "### Datos crudos"
   ]
  },
  {
   "cell_type": "code",
   "execution_count": null,
   "id": "c39efc09",
   "metadata": {},
   "outputs": [],
   "source": [
    "random_pipeline_crudo = Pipeline([('clf', RandomForestClassifier())])\n",
    "random_pipeline_crudo.fit(X_train, y_train)\n",
    "\n",
    "random_crudo_y_pred = random_pipeline_crudo.predict(X_test)\n",
    "\n",
    "print(classification_report(y_test, random_crudo_y_pred))\n",
    "print(accuracy_score(y_test, random_crudo_y_pred))"
   ]
  },
  {
   "cell_type": "markdown",
   "id": "ef38f3dd",
   "metadata": {},
   "source": [
    "### Solo STD"
   ]
  },
  {
   "cell_type": "code",
   "execution_count": null,
   "id": "4c049c68",
   "metadata": {},
   "outputs": [],
   "source": [
    "random_pipeline_std = Pipeline([\n",
    "        ('scaler', scaler),\n",
    "        ('clf', RandomForestClassifier())\n",
    "    ])\n",
    "random_pipeline_std.fit(X_train, y_train)\n",
    "\n",
    "random_std_y_pred = random_pipeline_std.predict(X_test)\n",
    "\n",
    "print(classification_report(y_test, random_std_y_pred))\n",
    "print(accuracy_score(y_test, random_std_y_pred))"
   ]
  },
  {
   "cell_type": "markdown",
   "id": "0ad6188e",
   "metadata": {},
   "source": [
    "### Solo PCA"
   ]
  },
  {
   "cell_type": "code",
   "execution_count": null,
   "id": "44d08525",
   "metadata": {},
   "outputs": [],
   "source": [
    "random_pipeline_pca = Pipeline([\n",
    "        ('pca', PCA(n_components=2)),\n",
    "        ('clf', RandomForestClassifier())\n",
    "    ])\n",
    "random_pipeline_pca.fit(X_train, y_train)\n",
    "\n",
    "random_pca_y_pred = random_pipeline_pca.predict(X_test)\n",
    "\n",
    "print(classification_report(y_test, random_pca_y_pred))\n",
    "print(accuracy_score(y_test, random_pca_y_pred))"
   ]
  },
  {
   "cell_type": "markdown",
   "id": "9cfbf29e",
   "metadata": {},
   "source": [
    "### PCA y STD"
   ]
  },
  {
   "cell_type": "code",
   "execution_count": null,
   "id": "85459422",
   "metadata": {},
   "outputs": [],
   "source": [
    "random_pipeline_pca_std = Pipeline([\n",
    "        ('scaler', scaler),\n",
    "        ('pca', PCA(n_components=2)),\n",
    "        ('clf', RandomForestClassifier())\n",
    "    ])\n",
    "random_pipeline_pca_std.fit(X_train, y_train)\n",
    "\n",
    "random_pca_std_y_pred = random_pipeline_pca_std.predict(X_test)\n",
    "\n",
    "print(classification_report(y_test, random_pca_std_y_pred))\n",
    "print(accuracy_score(y_test, random_pca_std_y_pred))"
   ]
  },
  {
   "cell_type": "markdown",
   "id": "b9a8b385",
   "metadata": {},
   "source": [
    "### Seleccion de variables mas importantes"
   ]
  },
  {
   "cell_type": "code",
   "execution_count": null,
   "id": "8b16a8dc",
   "metadata": {},
   "outputs": [],
   "source": [
    "random_pipeline_select = Pipeline([\n",
    "        ('scaler', scaler),\n",
    "        ('select', SelectKBest(score_func=f_classif, k=2)),\n",
    "        ('clf', RandomForestClassifier())\n",
    "    ])\n",
    "random_pipeline_select.fit(X_train, y_train)\n",
    "\n",
    "random_select_y_pred = random_pipeline_select.predict(X_test)\n",
    "\n",
    "print(classification_report(y_test, random_select_y_pred))\n",
    "print(accuracy_score(y_test, random_select_y_pred))"
   ]
  }
 ],
 "metadata": {
  "kernelspec": {
   "display_name": "Foliatti",
   "language": "python",
   "name": "python3"
  },
  "language_info": {
   "codemirror_mode": {
    "name": "ipython",
    "version": 3
   },
   "file_extension": ".py",
   "mimetype": "text/x-python",
   "name": "python",
   "nbconvert_exporter": "python",
   "pygments_lexer": "ipython3",
   "version": "3.11.11"
  }
 },
 "nbformat": 4,
 "nbformat_minor": 5
}
