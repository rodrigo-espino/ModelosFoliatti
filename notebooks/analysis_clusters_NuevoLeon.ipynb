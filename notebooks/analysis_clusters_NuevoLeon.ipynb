{
 "cells": [
  {
   "cell_type": "code",
   "execution_count": 1,
   "id": "71214034",
   "metadata": {},
   "outputs": [],
   "source": [
    "import pandas as pd\n",
    "from scipy.stats import f_oneway\n"
   ]
  },
  {
   "cell_type": "code",
   "execution_count": 2,
   "id": "5bedc314",
   "metadata": {},
   "outputs": [],
   "source": [
    "df_general = pd.read_csv('../data/nl-data.csv')\n",
    "\n",
    "df_allende = pd.read_csv('../data/data-allende.csv')\n",
    "df_guadalupe = pd.read_csv('../data/data-guadalupe.csv')\n",
    "df_mitras = pd.read_csv('../data/data-mitras.csv')\n",
    "df_sendero = pd.read_csv('../data/data-sendero.csv')"
   ]
  },
  {
   "cell_type": "code",
   "execution_count": 3,
   "id": "a59c9260",
   "metadata": {},
   "outputs": [],
   "source": [
    "columns_selected = ['AVG_BET',\n",
    "        'INITIAL_AMOUNT', 'GAMES_PLAYED_TOTAL',\n",
    "        'GAMES_WON_TOTAL', 'Rango_Edad_le']"
   ]
  },
  {
   "cell_type": "markdown",
   "id": "c03d0ada",
   "metadata": {},
   "source": [
    "# Allende"
   ]
  },
  {
   "cell_type": "code",
   "execution_count": 4,
   "id": "045b35be",
   "metadata": {},
   "outputs": [],
   "source": [
    "num_clusters = len(df_general['Cluster'].unique())\n",
    "\n",
    "# Resultados\n",
    "anova_results = []\n",
    "\n",
    "for col in columns_selected:\n",
    "    for c1 in range(num_clusters):\n",
    "        for c2 in range(num_clusters):\n",
    "            # Extraer los datos por cluster y columna\n",
    "            group1 = df_general[df_general['Cluster'] == c1][col].dropna()\n",
    "            group2 = df_allende[df_allende['Cluster'] == c2][col].dropna()\n",
    "            \n",
    "            # Asegúrate de que ambos grupos tengan más de 1 dato\n",
    "            if len(group1) > 1 and len(group2) > 1:\n",
    "                # ANOVA entre cluster c1 del df1 y cluster c2 del df2\n",
    "                stat, p = f_oneway(group1, group2)\n",
    "                \n",
    "                anova_results.append({\n",
    "                    'variable': col,\n",
    "                    'cluster_df1': c1,\n",
    "                    'cluster_df2': c2,\n",
    "                    'F_statistic': stat,\n",
    "                    'p_value': p\n",
    "                })\n",
    "anova_df_allende = pd.DataFrame(anova_results)\n"
   ]
  },
  {
   "cell_type": "code",
   "execution_count": 5,
   "id": "b3cebc2e",
   "metadata": {},
   "outputs": [
    {
     "data": {
      "text/plain": [
       "variable\n",
       "AVG_BET               16\n",
       "GAMES_PLAYED_TOTAL    15\n",
       "GAMES_WON_TOTAL       14\n",
       "INITIAL_AMOUNT        16\n",
       "Rango_Edad_le         15\n",
       "dtype: int64"
      ]
     },
     "execution_count": 5,
     "metadata": {},
     "output_type": "execute_result"
    }
   ],
   "source": [
    "anova_df_allende\n",
    "anova_df_allende[anova_df_allende['p_value'] < 0.05].groupby('variable').size()"
   ]
  },
  {
   "cell_type": "markdown",
   "id": "b34c5dcd",
   "metadata": {},
   "source": [
    "# Guadalupe"
   ]
  },
  {
   "cell_type": "code",
   "execution_count": 6,
   "id": "0ba53f2b",
   "metadata": {},
   "outputs": [],
   "source": [
    "num_clusters = len(df_general['Cluster'].unique())\n",
    "\n",
    "# Resultados\n",
    "anova_results = []\n",
    "\n",
    "for col in columns_selected:\n",
    "    for c1 in range(num_clusters):\n",
    "        for c2 in range(num_clusters):\n",
    "            # Extraer los datos por cluster y columna\n",
    "            group1 = df_general[df_general['Cluster'] == c1][col].dropna()\n",
    "            group2 = df_guadalupe[df_guadalupe['Cluster'] == c2][col].dropna()\n",
    "            \n",
    "            # Asegúrate de que ambos grupos tengan más de 1 dato\n",
    "            if len(group1) > 1 and len(group2) > 1:\n",
    "                # ANOVA entre cluster c1 del df1 y cluster c2 del df2\n",
    "                stat, p = f_oneway(group1, group2)\n",
    "                \n",
    "                anova_results.append({\n",
    "                    'variable': col,\n",
    "                    'cluster_df1': c1,\n",
    "                    'cluster_df2': c2,\n",
    "                    'F_statistic': stat,\n",
    "                    'p_value': p\n",
    "                })\n",
    "anova_df_guadalupe = pd.DataFrame(anova_results)\n"
   ]
  },
  {
   "cell_type": "code",
   "execution_count": 7,
   "id": "2d13060d",
   "metadata": {},
   "outputs": [
    {
     "data": {
      "text/plain": [
       "variable\n",
       "AVG_BET               14\n",
       "GAMES_PLAYED_TOTAL    16\n",
       "GAMES_WON_TOTAL       16\n",
       "INITIAL_AMOUNT        16\n",
       "Rango_Edad_le         16\n",
       "dtype: int64"
      ]
     },
     "execution_count": 7,
     "metadata": {},
     "output_type": "execute_result"
    }
   ],
   "source": [
    "anova_df_guadalupe[anova_df_guadalupe['p_value'] < 0.05].groupby('variable').size()\n"
   ]
  },
  {
   "cell_type": "markdown",
   "id": "6d41f7cb",
   "metadata": {},
   "source": [
    "# Mitras"
   ]
  },
  {
   "cell_type": "code",
   "execution_count": 8,
   "id": "3a87bd6a",
   "metadata": {},
   "outputs": [],
   "source": [
    "num_clusters = len(df_general['Cluster'].unique())\n",
    "\n",
    "# Resultados\n",
    "anova_results = []\n",
    "\n",
    "for col in columns_selected:\n",
    "    for c1 in range(num_clusters):\n",
    "        for c2 in range(num_clusters):\n",
    "            # Extraer los datos por cluster y columna\n",
    "            group1 = df_general[df_general['Cluster'] == c1][col].dropna()\n",
    "            group2 = df_mitras[df_mitras['Cluster'] == c2][col].dropna()\n",
    "            \n",
    "            # Asegúrate de que ambos grupos tengan más de 1 dato\n",
    "            if len(group1) > 1 and len(group2) > 1:\n",
    "                # ANOVA entre cluster c1 del df1 y cluster c2 del df2\n",
    "                stat, p = f_oneway(group1, group2)\n",
    "                \n",
    "                anova_results.append({\n",
    "                    'variable': col,\n",
    "                    'cluster_df1': c1,\n",
    "                    'cluster_df2': c2,\n",
    "                    'F_statistic': stat,\n",
    "                    'p_value': p\n",
    "                })\n",
    "anova_df_mitras = pd.DataFrame(anova_results)\n"
   ]
  },
  {
   "cell_type": "code",
   "execution_count": 9,
   "id": "634dc06b",
   "metadata": {},
   "outputs": [
    {
     "data": {
      "text/plain": [
       "variable\n",
       "AVG_BET               15\n",
       "GAMES_PLAYED_TOTAL    15\n",
       "GAMES_WON_TOTAL       15\n",
       "INITIAL_AMOUNT        16\n",
       "Rango_Edad_le         15\n",
       "dtype: int64"
      ]
     },
     "execution_count": 9,
     "metadata": {},
     "output_type": "execute_result"
    }
   ],
   "source": [
    "anova_df_mitras[anova_df_mitras['p_value'] < 0.05].groupby('variable').size()"
   ]
  },
  {
   "cell_type": "markdown",
   "id": "b0948b44",
   "metadata": {},
   "source": [
    "# Sendero"
   ]
  },
  {
   "cell_type": "code",
   "execution_count": 10,
   "id": "b78b0ca0",
   "metadata": {},
   "outputs": [],
   "source": [
    "num_clusters = len(df_general['Cluster'].unique())\n",
    "\n",
    "# Resultados\n",
    "anova_results = []\n",
    "\n",
    "for col in columns_selected:\n",
    "    for c1 in range(num_clusters):\n",
    "        for c2 in range(num_clusters):\n",
    "            # Extraer los datos por cluster y columna\n",
    "            group1 = df_general[df_general['Cluster'] == c1][col].dropna()\n",
    "            group2 = df_sendero[df_sendero['Cluster'] == c2][col].dropna()\n",
    "            \n",
    "            # Asegúrate de que ambos grupos tengan más de 1 dato\n",
    "            if len(group1) > 1 and len(group2) > 1:\n",
    "                # ANOVA entre cluster c1 del df1 y cluster c2 del df2\n",
    "                stat, p = f_oneway(group1, group2)\n",
    "                \n",
    "                anova_results.append({\n",
    "                    'variable': col,\n",
    "                    'cluster_df1': c1,\n",
    "                    'cluster_df2': c2,\n",
    "                    'F_statistic': stat,\n",
    "                    'p_value': p\n",
    "                })\n",
    "anova_df_sendero = pd.DataFrame(anova_results)\n"
   ]
  },
  {
   "cell_type": "code",
   "execution_count": 11,
   "id": "802d0d7c",
   "metadata": {},
   "outputs": [
    {
     "data": {
      "text/plain": [
       "variable\n",
       "AVG_BET               12\n",
       "GAMES_PLAYED_TOTAL    16\n",
       "GAMES_WON_TOTAL       16\n",
       "INITIAL_AMOUNT        15\n",
       "Rango_Edad_le         14\n",
       "dtype: int64"
      ]
     },
     "execution_count": 11,
     "metadata": {},
     "output_type": "execute_result"
    }
   ],
   "source": [
    "anova_df_sendero[anova_df_sendero['p_value'] < 0.05].groupby('variable').size()"
   ]
  }
 ],
 "metadata": {
  "kernelspec": {
   "display_name": "Foliatti",
   "language": "python",
   "name": "python3"
  },
  "language_info": {
   "codemirror_mode": {
    "name": "ipython",
    "version": 3
   },
   "file_extension": ".py",
   "mimetype": "text/x-python",
   "name": "python",
   "nbconvert_exporter": "python",
   "pygments_lexer": "ipython3",
   "version": "3.11.11"
  }
 },
 "nbformat": 4,
 "nbformat_minor": 5
}
